{
 "cells": [
  {
   "cell_type": "code",
   "execution_count": 1,
   "metadata": {},
   "outputs": [],
   "source": [
    "import pandas as pd\n",
    "import pyarrow as pa\n",
    "import pyarrow.parquet as pq\n",
    "import numpy as np\n",
    "\n",
    "from pathlib import Path\n",
    "import os\n",
    "import zipfile\n",
    "import matplotlib.pyplot as plt"
   ]
  },
  {
   "cell_type": "markdown",
   "metadata": {},
   "source": [
    "# Data"
   ]
  },
  {
   "cell_type": "code",
   "execution_count": 2,
   "metadata": {},
   "outputs": [],
   "source": [
    "# Read dictionary with municipalities\n",
    "muni = pd.read_csv('/Users/andreza/reproducibility_transportation_hubs-early_warning_surveillance_systems/data/DTB_BRASIL_MUNICIPIO.csv',sep=';')    \n",
    "\n",
    "    \n",
    "#'/Users/julianeoliveira/Documents/Projects/AESOP/AESOP datalake/"
   ]
  },
  {
   "cell_type": "code",
   "execution_count": 38,
   "metadata": {},
   "outputs": [],
   "source": [
    "# Read the Adjacent matrix\n",
    "link0 = '/Users/andreza/reproducibility_transportation_hubs-early_warning_surveillance_systems/code/adjacency_matrix_complete_4.parquet'\n",
    "\n",
    "#'/home/juliane.oliveira/Documents/AESOP data structure/ETL_data/adjacency_matrix_final.parquet'\n",
    "\n",
    "#/Users/julianeoliveira/Documents/Projects/AESOP/AESOP datalake/Mobility - Road-air-fluvial networks/adjacency_matrix.parquet'\n",
    "\n",
    "matrix = pd.read_parquet(link0, engine='pyarrow')"
   ]
  },
  {
   "cell_type": "markdown",
   "metadata": {},
   "source": [
    "# Functions"
   ]
  },
  {
   "cell_type": "code",
   "execution_count": 39,
   "metadata": {},
   "outputs": [],
   "source": [
    "link_muni_vertice = pd.DataFrame(matrix.columns, columns=['muni'])"
   ]
  },
  {
   "cell_type": "code",
   "execution_count": 40,
   "metadata": {},
   "outputs": [],
   "source": [
    "def get_mname(n):\n",
    "    \n",
    "    m = link_muni_vertice.iloc[n]['muni']\n",
    "    set_muni = muni[muni['Código Município Completo'] == m].reset_index()\n",
    "    return [set_muni.iloc[0]['Nome_Município'],set_muni.iloc[0]['Nome_UF'],m]\n",
    "   \n",
    "def get_mnumber(name):\n",
    "    muni[muni['Nome_Município'] == name]\n",
    "    \n",
    "    co_mu = muni[muni['Nome_Município'] == name].reset_index()['Código Município Completo'][0]\n",
    "    muni_number = link_muni_vertice[link_muni_vertice['muni'] == co_mu]['muni'].index.tolist()[0]\n",
    "    return [muni_number, co_mu]"
   ]
  },
  {
   "cell_type": "code",
   "execution_count": 41,
   "metadata": {},
   "outputs": [],
   "source": [
    "df_np = matrix.to_numpy()"
   ]
  },
  {
   "cell_type": "markdown",
   "metadata": {},
   "source": [
    "# Paths"
   ]
  },
  {
   "cell_type": "code",
   "execution_count": 42,
   "metadata": {},
   "outputs": [],
   "source": [
    "# Read the data\n",
    "data_dir = Path('/Users/andreza/Downloads/FF_path_results_Manaus_4/')\n",
    "\n",
    "\n",
    "                \n",
    "#full_df = pd.concat(\n",
    "#    pd.read_parquet(parquet_file)\n",
    "#    for parquet_file in data_dir.glob('*.parquet')\n",
    "#)"
   ]
  },
  {
   "cell_type": "code",
   "execution_count": 43,
   "metadata": {},
   "outputs": [],
   "source": [
    "lis_dfs = []\n",
    "for parquet_file in data_dir.glob('*.parquet'):\n",
    "    df = pd.read_parquet(parquet_file)\n",
    "    #df = df.reset_index()\n",
    "    #df['value'].iloc[0] = df['value_cum'].iloc[0]\n",
    "    lis_dfs.append(df)"
   ]
  },
  {
   "cell_type": "code",
   "execution_count": 44,
   "metadata": {},
   "outputs": [
    {
     "data": {
      "text/plain": [
       "1390"
      ]
     },
     "execution_count": 44,
     "metadata": {},
     "output_type": "execute_result"
    }
   ],
   "source": [
    "len(lis_dfs) #26043  2484"
   ]
  },
  {
   "cell_type": "code",
   "execution_count": 45,
   "metadata": {
    "scrolled": true
   },
   "outputs": [
    {
     "name": "stderr",
     "output_type": "stream",
     "text": [
      "/Users/andreza/anaconda3/lib/python3.6/site-packages/pandas/core/indexing.py:671: SettingWithCopyWarning: \n",
      "A value is trying to be set on a copy of a slice from a DataFrame\n",
      "\n",
      "See the caveats in the documentation: https://pandas.pydata.org/pandas-docs/stable/user_guide/indexing.html#returning-a-view-versus-a-copy\n",
      "  self._setitem_with_indexer(indexer, value)\n"
     ]
    }
   ],
   "source": [
    "for dfs in lis_dfs:\n",
    "    if len(dfs) != 0:  dfs['value'].iloc[0] = dfs['value_cum'].iloc[0]\n",
    "    else:\n",
    "        pass\n",
    "    \n"
   ]
  },
  {
   "cell_type": "code",
   "execution_count": 46,
   "metadata": {},
   "outputs": [],
   "source": [
    "lis_dfs2 = []\n",
    "\n",
    "for df in lis_dfs:\n",
    "    \n",
    "    new_df = df[df['value'] == df['value'].max()]\n",
    "    \n",
    "    lis_dfs2.append(new_df)"
   ]
  },
  {
   "cell_type": "code",
   "execution_count": 47,
   "metadata": {
    "scrolled": true
   },
   "outputs": [
    {
     "data": {
      "text/plain": [
       "1390"
      ]
     },
     "execution_count": 47,
     "metadata": {},
     "output_type": "execute_result"
    }
   ],
   "source": [
    "len(lis_dfs2)"
   ]
  },
  {
   "cell_type": "code",
   "execution_count": 48,
   "metadata": {
    "scrolled": true
   },
   "outputs": [],
   "source": [
    "df = pd.concat(lis_dfs2)\n",
    "df = df.reset_index()"
   ]
  },
  {
   "cell_type": "code",
   "execution_count": 49,
   "metadata": {},
   "outputs": [
    {
     "data": {
      "text/plain": [
       "1452"
      ]
     },
     "execution_count": 49,
     "metadata": {},
     "output_type": "execute_result"
    }
   ],
   "source": [
    "len(df)"
   ]
  },
  {
   "cell_type": "code",
   "execution_count": 50,
   "metadata": {
    "scrolled": true
   },
   "outputs": [
    {
     "data": {
      "text/html": [
       "<div>\n",
       "<style scoped>\n",
       "    .dataframe tbody tr th:only-of-type {\n",
       "        vertical-align: middle;\n",
       "    }\n",
       "\n",
       "    .dataframe tbody tr th {\n",
       "        vertical-align: top;\n",
       "    }\n",
       "\n",
       "    .dataframe thead th {\n",
       "        text-align: right;\n",
       "    }\n",
       "</style>\n",
       "<table border=\"1\" class=\"dataframe\">\n",
       "  <thead>\n",
       "    <tr style=\"text-align: right;\">\n",
       "      <th></th>\n",
       "      <th>index</th>\n",
       "      <th>value_cum</th>\n",
       "      <th>value</th>\n",
       "      <th>ori_muni_name</th>\n",
       "      <th>ori_uf_name</th>\n",
       "      <th>ori_co_ibge</th>\n",
       "      <th>des_muni_name</th>\n",
       "      <th>des_uf_name</th>\n",
       "      <th>des_co_ibge</th>\n",
       "      <th>paths</th>\n",
       "    </tr>\n",
       "  </thead>\n",
       "  <tbody>\n",
       "    <tr>\n",
       "      <th>0</th>\n",
       "      <td>9</td>\n",
       "      <td>123.00</td>\n",
       "      <td>42.00</td>\n",
       "      <td>Manaus</td>\n",
       "      <td>Amazonas</td>\n",
       "      <td>1302603</td>\n",
       "      <td>Areias</td>\n",
       "      <td>São Paulo</td>\n",
       "      <td>3503505</td>\n",
       "      <td>[[3415, 3307], [3829, 3415], [111, 3829], None]</td>\n",
       "    </tr>\n",
       "    <tr>\n",
       "      <th>1</th>\n",
       "      <td>3</td>\n",
       "      <td>34.00</td>\n",
       "      <td>14.00</td>\n",
       "      <td>Manaus</td>\n",
       "      <td>Amazonas</td>\n",
       "      <td>1302603</td>\n",
       "      <td>Careiro</td>\n",
       "      <td>Amazonas</td>\n",
       "      <td>1301100</td>\n",
       "      <td>[[110, 91], [111, 110]]</td>\n",
       "    </tr>\n",
       "    <tr>\n",
       "      <th>2</th>\n",
       "      <td>11</td>\n",
       "      <td>176.96</td>\n",
       "      <td>47.18</td>\n",
       "      <td>Manaus</td>\n",
       "      <td>Amazonas</td>\n",
       "      <td>1302603</td>\n",
       "      <td>Além Paraíba</td>\n",
       "      <td>Minas Gerais</td>\n",
       "      <td>3101508</td>\n",
       "      <td>[[3242, 2258], [1596, 3242], [111, 1596], None]</td>\n",
       "    </tr>\n",
       "    <tr>\n",
       "      <th>3</th>\n",
       "      <td>0</td>\n",
       "      <td>223.88</td>\n",
       "      <td>223.88</td>\n",
       "      <td>Manaus</td>\n",
       "      <td>Amazonas</td>\n",
       "      <td>1302603</td>\n",
       "      <td>Peruíbe</td>\n",
       "      <td>São Paulo</td>\n",
       "      <td>3537602</td>\n",
       "      <td>[[3829, 3690], [111, 3829], None, None]</td>\n",
       "    </tr>\n",
       "    <tr>\n",
       "      <th>4</th>\n",
       "      <td>0</td>\n",
       "      <td>63.00</td>\n",
       "      <td>63.00</td>\n",
       "      <td>Manaus</td>\n",
       "      <td>Amazonas</td>\n",
       "      <td>1302603</td>\n",
       "      <td>Caxias</td>\n",
       "      <td>Maranhão</td>\n",
       "      <td>2103000</td>\n",
       "      <td>[[169, 501], [111, 169], None, None]</td>\n",
       "    </tr>\n",
       "  </tbody>\n",
       "</table>\n",
       "</div>"
      ],
      "text/plain": [
       "   index  value_cum   value ori_muni_name ori_uf_name  ori_co_ibge  \\\n",
       "0      9     123.00   42.00        Manaus    Amazonas      1302603   \n",
       "1      3      34.00   14.00        Manaus    Amazonas      1302603   \n",
       "2     11     176.96   47.18        Manaus    Amazonas      1302603   \n",
       "3      0     223.88  223.88        Manaus    Amazonas      1302603   \n",
       "4      0      63.00   63.00        Manaus    Amazonas      1302603   \n",
       "\n",
       "  des_muni_name   des_uf_name  des_co_ibge  \\\n",
       "0        Areias     São Paulo      3503505   \n",
       "1       Careiro      Amazonas      1301100   \n",
       "2  Além Paraíba  Minas Gerais      3101508   \n",
       "3       Peruíbe     São Paulo      3537602   \n",
       "4        Caxias      Maranhão      2103000   \n",
       "\n",
       "                                             paths  \n",
       "0  [[3415, 3307], [3829, 3415], [111, 3829], None]  \n",
       "1                          [[110, 91], [111, 110]]  \n",
       "2  [[3242, 2258], [1596, 3242], [111, 1596], None]  \n",
       "3          [[3829, 3690], [111, 3829], None, None]  \n",
       "4             [[169, 501], [111, 169], None, None]  "
      ]
     },
     "execution_count": 50,
     "metadata": {},
     "output_type": "execute_result"
    }
   ],
   "source": [
    "df.head()"
   ]
  },
  {
   "cell_type": "code",
   "execution_count": 51,
   "metadata": {},
   "outputs": [
    {
     "data": {
      "text/plain": [
       "array(['São Paulo', 'Amazonas', 'Minas Gerais', 'Maranhão', 'Ceará',\n",
       "       'Paraná', 'Bahia', 'Alagoas', 'Pará', 'Espírito Santo',\n",
       "       'Rio Grande do Norte', 'Piauí', 'Pernambuco', 'Rio Grande do Sul',\n",
       "       'Santa Catarina', 'Paraíba', 'Goiás', 'Rio de Janeiro', 'Sergipe',\n",
       "       'Tocantins', 'Mato Grosso', 'Mato Grosso do Sul', 'Roraima',\n",
       "       'Rondônia', 'Acre', 'Amapá', 'Distrito Federal'], dtype=object)"
      ]
     },
     "execution_count": 51,
     "metadata": {},
     "output_type": "execute_result"
    }
   ],
   "source": [
    "df.des_uf_name.unique()"
   ]
  },
  {
   "cell_type": "code",
   "execution_count": 53,
   "metadata": {
    "scrolled": true
   },
   "outputs": [],
   "source": [
    "def get_incorret_path(value):\n",
    "    desired_order = []\n",
    "    for lst in value:\n",
    "        if lst is not None:\n",
    "            lst = list(lst)\n",
    "            desired_order.append(lst)\n",
    "\n",
    "    desired_order.reverse()\n",
    "    \n",
    "    res = pd.DataFrame(desired_order, columns=['ori','des'])\n",
    "\n",
    "    res_list = list(res.ori) + list(res.des[-1:])\n",
    "    \n",
    "    return res_list\n"
   ]
  },
  {
   "cell_type": "code",
   "execution_count": 54,
   "metadata": {
    "scrolled": true
   },
   "outputs": [],
   "source": [
    "path_correct = []\n",
    "\n",
    "for value in df['paths']:\n",
    "    \n",
    "    path_correct.append(get_incorret_path(value))\n",
    "  "
   ]
  },
  {
   "cell_type": "code",
   "execution_count": 55,
   "metadata": {},
   "outputs": [],
   "source": [
    "df = df.assign(path_correct = path_correct)"
   ]
  },
  {
   "cell_type": "code",
   "execution_count": 56,
   "metadata": {},
   "outputs": [
    {
     "data": {
      "text/html": [
       "<div>\n",
       "<style scoped>\n",
       "    .dataframe tbody tr th:only-of-type {\n",
       "        vertical-align: middle;\n",
       "    }\n",
       "\n",
       "    .dataframe tbody tr th {\n",
       "        vertical-align: top;\n",
       "    }\n",
       "\n",
       "    .dataframe thead th {\n",
       "        text-align: right;\n",
       "    }\n",
       "</style>\n",
       "<table border=\"1\" class=\"dataframe\">\n",
       "  <thead>\n",
       "    <tr style=\"text-align: right;\">\n",
       "      <th></th>\n",
       "      <th>index</th>\n",
       "      <th>value_cum</th>\n",
       "      <th>value</th>\n",
       "      <th>ori_muni_name</th>\n",
       "      <th>ori_uf_name</th>\n",
       "      <th>ori_co_ibge</th>\n",
       "      <th>des_muni_name</th>\n",
       "      <th>des_uf_name</th>\n",
       "      <th>des_co_ibge</th>\n",
       "      <th>paths</th>\n",
       "      <th>path_correct</th>\n",
       "    </tr>\n",
       "  </thead>\n",
       "  <tbody>\n",
       "    <tr>\n",
       "      <th>0</th>\n",
       "      <td>9</td>\n",
       "      <td>123.00</td>\n",
       "      <td>42.00</td>\n",
       "      <td>Manaus</td>\n",
       "      <td>Amazonas</td>\n",
       "      <td>1302603</td>\n",
       "      <td>Areias</td>\n",
       "      <td>São Paulo</td>\n",
       "      <td>3503505</td>\n",
       "      <td>[[3415, 3307], [3829, 3415], [111, 3829], None]</td>\n",
       "      <td>[111, 3829, 3415, 3307]</td>\n",
       "    </tr>\n",
       "    <tr>\n",
       "      <th>1</th>\n",
       "      <td>3</td>\n",
       "      <td>34.00</td>\n",
       "      <td>14.00</td>\n",
       "      <td>Manaus</td>\n",
       "      <td>Amazonas</td>\n",
       "      <td>1302603</td>\n",
       "      <td>Careiro</td>\n",
       "      <td>Amazonas</td>\n",
       "      <td>1301100</td>\n",
       "      <td>[[110, 91], [111, 110]]</td>\n",
       "      <td>[111, 110, 91]</td>\n",
       "    </tr>\n",
       "    <tr>\n",
       "      <th>2</th>\n",
       "      <td>11</td>\n",
       "      <td>176.96</td>\n",
       "      <td>47.18</td>\n",
       "      <td>Manaus</td>\n",
       "      <td>Amazonas</td>\n",
       "      <td>1302603</td>\n",
       "      <td>Além Paraíba</td>\n",
       "      <td>Minas Gerais</td>\n",
       "      <td>3101508</td>\n",
       "      <td>[[3242, 2258], [1596, 3242], [111, 1596], None]</td>\n",
       "      <td>[111, 1596, 3242, 2258]</td>\n",
       "    </tr>\n",
       "    <tr>\n",
       "      <th>3</th>\n",
       "      <td>0</td>\n",
       "      <td>223.88</td>\n",
       "      <td>223.88</td>\n",
       "      <td>Manaus</td>\n",
       "      <td>Amazonas</td>\n",
       "      <td>1302603</td>\n",
       "      <td>Peruíbe</td>\n",
       "      <td>São Paulo</td>\n",
       "      <td>3537602</td>\n",
       "      <td>[[3829, 3690], [111, 3829], None, None]</td>\n",
       "      <td>[111, 3829, 3690]</td>\n",
       "    </tr>\n",
       "    <tr>\n",
       "      <th>4</th>\n",
       "      <td>0</td>\n",
       "      <td>63.00</td>\n",
       "      <td>63.00</td>\n",
       "      <td>Manaus</td>\n",
       "      <td>Amazonas</td>\n",
       "      <td>1302603</td>\n",
       "      <td>Caxias</td>\n",
       "      <td>Maranhão</td>\n",
       "      <td>2103000</td>\n",
       "      <td>[[169, 501], [111, 169], None, None]</td>\n",
       "      <td>[111, 169, 501]</td>\n",
       "    </tr>\n",
       "  </tbody>\n",
       "</table>\n",
       "</div>"
      ],
      "text/plain": [
       "   index  value_cum   value ori_muni_name ori_uf_name  ori_co_ibge  \\\n",
       "0      9     123.00   42.00        Manaus    Amazonas      1302603   \n",
       "1      3      34.00   14.00        Manaus    Amazonas      1302603   \n",
       "2     11     176.96   47.18        Manaus    Amazonas      1302603   \n",
       "3      0     223.88  223.88        Manaus    Amazonas      1302603   \n",
       "4      0      63.00   63.00        Manaus    Amazonas      1302603   \n",
       "\n",
       "  des_muni_name   des_uf_name  des_co_ibge  \\\n",
       "0        Areias     São Paulo      3503505   \n",
       "1       Careiro      Amazonas      1301100   \n",
       "2  Além Paraíba  Minas Gerais      3101508   \n",
       "3       Peruíbe     São Paulo      3537602   \n",
       "4        Caxias      Maranhão      2103000   \n",
       "\n",
       "                                             paths             path_correct  \n",
       "0  [[3415, 3307], [3829, 3415], [111, 3829], None]  [111, 3829, 3415, 3307]  \n",
       "1                          [[110, 91], [111, 110]]           [111, 110, 91]  \n",
       "2  [[3242, 2258], [1596, 3242], [111, 1596], None]  [111, 1596, 3242, 2258]  \n",
       "3          [[3829, 3690], [111, 3829], None, None]        [111, 3829, 3690]  \n",
       "4             [[169, 501], [111, 169], None, None]          [111, 169, 501]  "
      ]
     },
     "execution_count": 56,
     "metadata": {},
     "output_type": "execute_result"
    }
   ],
   "source": [
    "df.head()"
   ]
  },
  {
   "cell_type": "code",
   "execution_count": 57,
   "metadata": {},
   "outputs": [],
   "source": [
    "path_len = []\n",
    "for value in df.path_correct:\n",
    "    x = len(value)\n",
    "    path_len.append(x)"
   ]
  },
  {
   "cell_type": "code",
   "execution_count": 58,
   "metadata": {},
   "outputs": [],
   "source": [
    "df = df.assign(path_len = path_len)"
   ]
  },
  {
   "cell_type": "code",
   "execution_count": 59,
   "metadata": {},
   "outputs": [],
   "source": [
    "df = df.assign(path_len = df.path_len -1)"
   ]
  },
  {
   "cell_type": "code",
   "execution_count": 60,
   "metadata": {},
   "outputs": [
    {
     "data": {
      "text/html": [
       "<div>\n",
       "<style scoped>\n",
       "    .dataframe tbody tr th:only-of-type {\n",
       "        vertical-align: middle;\n",
       "    }\n",
       "\n",
       "    .dataframe tbody tr th {\n",
       "        vertical-align: top;\n",
       "    }\n",
       "\n",
       "    .dataframe thead th {\n",
       "        text-align: right;\n",
       "    }\n",
       "</style>\n",
       "<table border=\"1\" class=\"dataframe\">\n",
       "  <thead>\n",
       "    <tr style=\"text-align: right;\">\n",
       "      <th></th>\n",
       "      <th>index</th>\n",
       "      <th>value_cum</th>\n",
       "      <th>value</th>\n",
       "      <th>ori_muni_name</th>\n",
       "      <th>ori_uf_name</th>\n",
       "      <th>ori_co_ibge</th>\n",
       "      <th>des_muni_name</th>\n",
       "      <th>des_uf_name</th>\n",
       "      <th>des_co_ibge</th>\n",
       "      <th>paths</th>\n",
       "      <th>path_correct</th>\n",
       "      <th>path_len</th>\n",
       "    </tr>\n",
       "  </thead>\n",
       "  <tbody>\n",
       "    <tr>\n",
       "      <th>0</th>\n",
       "      <td>9</td>\n",
       "      <td>123.00</td>\n",
       "      <td>42.00</td>\n",
       "      <td>Manaus</td>\n",
       "      <td>Amazonas</td>\n",
       "      <td>1302603</td>\n",
       "      <td>Areias</td>\n",
       "      <td>São Paulo</td>\n",
       "      <td>3503505</td>\n",
       "      <td>[[3415, 3307], [3829, 3415], [111, 3829], None]</td>\n",
       "      <td>[111, 3829, 3415, 3307]</td>\n",
       "      <td>3</td>\n",
       "    </tr>\n",
       "    <tr>\n",
       "      <th>1</th>\n",
       "      <td>3</td>\n",
       "      <td>34.00</td>\n",
       "      <td>14.00</td>\n",
       "      <td>Manaus</td>\n",
       "      <td>Amazonas</td>\n",
       "      <td>1302603</td>\n",
       "      <td>Careiro</td>\n",
       "      <td>Amazonas</td>\n",
       "      <td>1301100</td>\n",
       "      <td>[[110, 91], [111, 110]]</td>\n",
       "      <td>[111, 110, 91]</td>\n",
       "      <td>2</td>\n",
       "    </tr>\n",
       "    <tr>\n",
       "      <th>2</th>\n",
       "      <td>11</td>\n",
       "      <td>176.96</td>\n",
       "      <td>47.18</td>\n",
       "      <td>Manaus</td>\n",
       "      <td>Amazonas</td>\n",
       "      <td>1302603</td>\n",
       "      <td>Além Paraíba</td>\n",
       "      <td>Minas Gerais</td>\n",
       "      <td>3101508</td>\n",
       "      <td>[[3242, 2258], [1596, 3242], [111, 1596], None]</td>\n",
       "      <td>[111, 1596, 3242, 2258]</td>\n",
       "      <td>3</td>\n",
       "    </tr>\n",
       "    <tr>\n",
       "      <th>3</th>\n",
       "      <td>0</td>\n",
       "      <td>223.88</td>\n",
       "      <td>223.88</td>\n",
       "      <td>Manaus</td>\n",
       "      <td>Amazonas</td>\n",
       "      <td>1302603</td>\n",
       "      <td>Peruíbe</td>\n",
       "      <td>São Paulo</td>\n",
       "      <td>3537602</td>\n",
       "      <td>[[3829, 3690], [111, 3829], None, None]</td>\n",
       "      <td>[111, 3829, 3690]</td>\n",
       "      <td>2</td>\n",
       "    </tr>\n",
       "    <tr>\n",
       "      <th>4</th>\n",
       "      <td>0</td>\n",
       "      <td>63.00</td>\n",
       "      <td>63.00</td>\n",
       "      <td>Manaus</td>\n",
       "      <td>Amazonas</td>\n",
       "      <td>1302603</td>\n",
       "      <td>Caxias</td>\n",
       "      <td>Maranhão</td>\n",
       "      <td>2103000</td>\n",
       "      <td>[[169, 501], [111, 169], None, None]</td>\n",
       "      <td>[111, 169, 501]</td>\n",
       "      <td>2</td>\n",
       "    </tr>\n",
       "  </tbody>\n",
       "</table>\n",
       "</div>"
      ],
      "text/plain": [
       "   index  value_cum   value ori_muni_name ori_uf_name  ori_co_ibge  \\\n",
       "0      9     123.00   42.00        Manaus    Amazonas      1302603   \n",
       "1      3      34.00   14.00        Manaus    Amazonas      1302603   \n",
       "2     11     176.96   47.18        Manaus    Amazonas      1302603   \n",
       "3      0     223.88  223.88        Manaus    Amazonas      1302603   \n",
       "4      0      63.00   63.00        Manaus    Amazonas      1302603   \n",
       "\n",
       "  des_muni_name   des_uf_name  des_co_ibge  \\\n",
       "0        Areias     São Paulo      3503505   \n",
       "1       Careiro      Amazonas      1301100   \n",
       "2  Além Paraíba  Minas Gerais      3101508   \n",
       "3       Peruíbe     São Paulo      3537602   \n",
       "4        Caxias      Maranhão      2103000   \n",
       "\n",
       "                                             paths             path_correct  \\\n",
       "0  [[3415, 3307], [3829, 3415], [111, 3829], None]  [111, 3829, 3415, 3307]   \n",
       "1                          [[110, 91], [111, 110]]           [111, 110, 91]   \n",
       "2  [[3242, 2258], [1596, 3242], [111, 1596], None]  [111, 1596, 3242, 2258]   \n",
       "3          [[3829, 3690], [111, 3829], None, None]        [111, 3829, 3690]   \n",
       "4             [[169, 501], [111, 169], None, None]          [111, 169, 501]   \n",
       "\n",
       "   path_len  \n",
       "0         3  \n",
       "1         2  \n",
       "2         3  \n",
       "3         2  \n",
       "4         2  "
      ]
     },
     "execution_count": 60,
     "metadata": {},
     "output_type": "execute_result"
    }
   ],
   "source": [
    "df.head()"
   ]
  },
  {
   "cell_type": "code",
   "execution_count": 61,
   "metadata": {},
   "outputs": [
    {
     "data": {
      "text/plain": [
       "4"
      ]
     },
     "execution_count": 61,
     "metadata": {},
     "output_type": "execute_result"
    }
   ],
   "source": [
    "df.path_len.max()"
   ]
  },
  {
   "cell_type": "code",
   "execution_count": 62,
   "metadata": {},
   "outputs": [],
   "source": [
    "def split_path_mun1(col_lst):\n",
    "    muni_1 = []\n",
    "    for value in col_lst:\n",
    "        fac = value[1]\n",
    "        \n",
    "        muni_1.append(fac)\n",
    "        \n",
    "    return muni_1\n",
    "\n",
    "def split_path_mun2(col_lst):\n",
    "    muni_2 = []\n",
    "    for value in col_lst:\n",
    "        if len(value) == 2: fac = 'nan'\n",
    "        elif len(value) >=3: fac = value[2]\n",
    "        \n",
    "        muni_2.append(fac)\n",
    "        \n",
    "    return muni_2\n",
    "\n",
    "def split_path_mun3(col_lst):\n",
    "    muni_3 = []\n",
    "    for value in col_lst:\n",
    "        if len(value) == 2: fac = 'nan'\n",
    "        elif len(value) ==3: fac = 'nan'\n",
    "        elif len(value) >=4: fac = value[3]\n",
    "        \n",
    "        muni_3.append(fac)\n",
    "        \n",
    "    return muni_3"
   ]
  },
  {
   "cell_type": "code",
   "execution_count": 63,
   "metadata": {},
   "outputs": [],
   "source": [
    "#df = df.assign(Rio_branco_AC = check_city_in_path(df.path_correct,66))\n",
    "df = df.assign(muni_1 = split_path_mun1(df.path_correct))\n",
    "\n",
    "df = df.assign(muni_2 = split_path_mun2(df.path_correct))\n",
    "\n",
    "df = df.assign(muni_3 = split_path_mun3(df.path_correct))"
   ]
  },
  {
   "cell_type": "code",
   "execution_count": 64,
   "metadata": {},
   "outputs": [],
   "source": [
    "df = df.assign(ones = 1)"
   ]
  },
  {
   "cell_type": "code",
   "execution_count": 65,
   "metadata": {
    "scrolled": false
   },
   "outputs": [
    {
     "data": {
      "text/html": [
       "<div>\n",
       "<style scoped>\n",
       "    .dataframe tbody tr th:only-of-type {\n",
       "        vertical-align: middle;\n",
       "    }\n",
       "\n",
       "    .dataframe tbody tr th {\n",
       "        vertical-align: top;\n",
       "    }\n",
       "\n",
       "    .dataframe thead th {\n",
       "        text-align: right;\n",
       "    }\n",
       "</style>\n",
       "<table border=\"1\" class=\"dataframe\">\n",
       "  <thead>\n",
       "    <tr style=\"text-align: right;\">\n",
       "      <th></th>\n",
       "      <th>index</th>\n",
       "      <th>value_cum</th>\n",
       "      <th>value</th>\n",
       "      <th>ori_muni_name</th>\n",
       "      <th>ori_uf_name</th>\n",
       "      <th>ori_co_ibge</th>\n",
       "      <th>des_muni_name</th>\n",
       "      <th>des_uf_name</th>\n",
       "      <th>des_co_ibge</th>\n",
       "      <th>paths</th>\n",
       "      <th>path_correct</th>\n",
       "      <th>path_len</th>\n",
       "      <th>muni_1</th>\n",
       "      <th>muni_2</th>\n",
       "      <th>muni_3</th>\n",
       "      <th>ones</th>\n",
       "    </tr>\n",
       "  </thead>\n",
       "  <tbody>\n",
       "    <tr>\n",
       "      <th>0</th>\n",
       "      <td>9</td>\n",
       "      <td>123.00</td>\n",
       "      <td>42.00</td>\n",
       "      <td>Manaus</td>\n",
       "      <td>Amazonas</td>\n",
       "      <td>1302603</td>\n",
       "      <td>Areias</td>\n",
       "      <td>São Paulo</td>\n",
       "      <td>3503505</td>\n",
       "      <td>[[3415, 3307], [3829, 3415], [111, 3829], None]</td>\n",
       "      <td>[111, 3829, 3415, 3307]</td>\n",
       "      <td>3</td>\n",
       "      <td>3829</td>\n",
       "      <td>3415</td>\n",
       "      <td>3307</td>\n",
       "      <td>1</td>\n",
       "    </tr>\n",
       "    <tr>\n",
       "      <th>1</th>\n",
       "      <td>3</td>\n",
       "      <td>34.00</td>\n",
       "      <td>14.00</td>\n",
       "      <td>Manaus</td>\n",
       "      <td>Amazonas</td>\n",
       "      <td>1302603</td>\n",
       "      <td>Careiro</td>\n",
       "      <td>Amazonas</td>\n",
       "      <td>1301100</td>\n",
       "      <td>[[110, 91], [111, 110]]</td>\n",
       "      <td>[111, 110, 91]</td>\n",
       "      <td>2</td>\n",
       "      <td>110</td>\n",
       "      <td>91</td>\n",
       "      <td>nan</td>\n",
       "      <td>1</td>\n",
       "    </tr>\n",
       "    <tr>\n",
       "      <th>2</th>\n",
       "      <td>11</td>\n",
       "      <td>176.96</td>\n",
       "      <td>47.18</td>\n",
       "      <td>Manaus</td>\n",
       "      <td>Amazonas</td>\n",
       "      <td>1302603</td>\n",
       "      <td>Além Paraíba</td>\n",
       "      <td>Minas Gerais</td>\n",
       "      <td>3101508</td>\n",
       "      <td>[[3242, 2258], [1596, 3242], [111, 1596], None]</td>\n",
       "      <td>[111, 1596, 3242, 2258]</td>\n",
       "      <td>3</td>\n",
       "      <td>1596</td>\n",
       "      <td>3242</td>\n",
       "      <td>2258</td>\n",
       "      <td>1</td>\n",
       "    </tr>\n",
       "    <tr>\n",
       "      <th>3</th>\n",
       "      <td>0</td>\n",
       "      <td>223.88</td>\n",
       "      <td>223.88</td>\n",
       "      <td>Manaus</td>\n",
       "      <td>Amazonas</td>\n",
       "      <td>1302603</td>\n",
       "      <td>Peruíbe</td>\n",
       "      <td>São Paulo</td>\n",
       "      <td>3537602</td>\n",
       "      <td>[[3829, 3690], [111, 3829], None, None]</td>\n",
       "      <td>[111, 3829, 3690]</td>\n",
       "      <td>2</td>\n",
       "      <td>3829</td>\n",
       "      <td>3690</td>\n",
       "      <td>nan</td>\n",
       "      <td>1</td>\n",
       "    </tr>\n",
       "    <tr>\n",
       "      <th>4</th>\n",
       "      <td>0</td>\n",
       "      <td>63.00</td>\n",
       "      <td>63.00</td>\n",
       "      <td>Manaus</td>\n",
       "      <td>Amazonas</td>\n",
       "      <td>1302603</td>\n",
       "      <td>Caxias</td>\n",
       "      <td>Maranhão</td>\n",
       "      <td>2103000</td>\n",
       "      <td>[[169, 501], [111, 169], None, None]</td>\n",
       "      <td>[111, 169, 501]</td>\n",
       "      <td>2</td>\n",
       "      <td>169</td>\n",
       "      <td>501</td>\n",
       "      <td>nan</td>\n",
       "      <td>1</td>\n",
       "    </tr>\n",
       "  </tbody>\n",
       "</table>\n",
       "</div>"
      ],
      "text/plain": [
       "   index  value_cum   value ori_muni_name ori_uf_name  ori_co_ibge  \\\n",
       "0      9     123.00   42.00        Manaus    Amazonas      1302603   \n",
       "1      3      34.00   14.00        Manaus    Amazonas      1302603   \n",
       "2     11     176.96   47.18        Manaus    Amazonas      1302603   \n",
       "3      0     223.88  223.88        Manaus    Amazonas      1302603   \n",
       "4      0      63.00   63.00        Manaus    Amazonas      1302603   \n",
       "\n",
       "  des_muni_name   des_uf_name  des_co_ibge  \\\n",
       "0        Areias     São Paulo      3503505   \n",
       "1       Careiro      Amazonas      1301100   \n",
       "2  Além Paraíba  Minas Gerais      3101508   \n",
       "3       Peruíbe     São Paulo      3537602   \n",
       "4        Caxias      Maranhão      2103000   \n",
       "\n",
       "                                             paths             path_correct  \\\n",
       "0  [[3415, 3307], [3829, 3415], [111, 3829], None]  [111, 3829, 3415, 3307]   \n",
       "1                          [[110, 91], [111, 110]]           [111, 110, 91]   \n",
       "2  [[3242, 2258], [1596, 3242], [111, 1596], None]  [111, 1596, 3242, 2258]   \n",
       "3          [[3829, 3690], [111, 3829], None, None]        [111, 3829, 3690]   \n",
       "4             [[169, 501], [111, 169], None, None]          [111, 169, 501]   \n",
       "\n",
       "   path_len  muni_1 muni_2 muni_3  ones  \n",
       "0         3    3829   3415   3307     1  \n",
       "1         2     110     91    nan     1  \n",
       "2         3    1596   3242   2258     1  \n",
       "3         2    3829   3690    nan     1  \n",
       "4         2     169    501    nan     1  "
      ]
     },
     "execution_count": 65,
     "metadata": {},
     "output_type": "execute_result"
    }
   ],
   "source": [
    "df.head()"
   ]
  },
  {
   "cell_type": "code",
   "execution_count": 66,
   "metadata": {},
   "outputs": [],
   "source": [
    "df = df[['value_cum', 'value', 'ori_muni_name', 'ori_uf_name',\n",
    "       'ori_co_ibge', 'des_muni_name', 'des_uf_name', 'des_co_ibge',\n",
    "       'path_correct', 'path_len', 'muni_1', 'muni_2', 'muni_3', 'ones']]"
   ]
  },
  {
   "cell_type": "code",
   "execution_count": null,
   "metadata": {},
   "outputs": [],
   "source": []
  },
  {
   "cell_type": "code",
   "execution_count": 67,
   "metadata": {},
   "outputs": [],
   "source": [
    "df.to_csv('/Users/andreza/Downloads/FF_Manaus_hubs4.csv')"
   ]
  },
  {
   "cell_type": "markdown",
   "metadata": {},
   "source": [
    "# Analise do que já concluiu"
   ]
  },
  {
   "cell_type": "code",
   "execution_count": 68,
   "metadata": {},
   "outputs": [],
   "source": [
    "df_conclu = pd.concat(lis_dfs)"
   ]
  },
  {
   "cell_type": "code",
   "execution_count": 12,
   "metadata": {},
   "outputs": [],
   "source": [
    "#df_conclu[df_conclu.des_muni_name == 'Simões Filho']"
   ]
  },
  {
   "cell_type": "code",
   "execution_count": 69,
   "metadata": {},
   "outputs": [
    {
     "data": {
      "text/plain": [
       "array(['São Paulo', 'Amazonas', 'Minas Gerais', 'Maranhão', 'Ceará',\n",
       "       'Paraná', 'Bahia', 'Alagoas', 'Pará', 'Espírito Santo',\n",
       "       'Rio Grande do Norte', 'Piauí', 'Pernambuco', 'Rio Grande do Sul',\n",
       "       'Santa Catarina', 'Paraíba', 'Goiás', 'Rio de Janeiro', 'Sergipe',\n",
       "       'Tocantins', 'Mato Grosso', 'Mato Grosso do Sul', 'Roraima',\n",
       "       'Rondônia', 'Acre', 'Amapá', 'Distrito Federal'], dtype=object)"
      ]
     },
     "execution_count": 69,
     "metadata": {},
     "output_type": "execute_result"
    }
   ],
   "source": [
    "df_conclu.des_uf_name.unique()"
   ]
  },
  {
   "cell_type": "code",
   "execution_count": 70,
   "metadata": {
    "scrolled": false
   },
   "outputs": [
    {
     "name": "stdout",
     "output_type": "stream",
     "text": [
      "São Paulo 1\n",
      "Amazonas 1\n",
      "Minas Gerais 1\n",
      "Maranhão 1\n",
      "Ceará 1\n",
      "Paraná 1\n",
      "Bahia 1\n",
      "Alagoas 1\n",
      "Pará 1\n",
      "Espírito Santo 1\n",
      "Rio Grande do Norte 1\n",
      "Piauí 1\n",
      "Pernambuco 1\n",
      "Rio Grande do Sul 1\n",
      "Santa Catarina 1\n",
      "Paraíba 1\n",
      "Goiás 1\n",
      "Rio de Janeiro 1\n",
      "Sergipe 1\n",
      "Tocantins 1\n",
      "Mato Grosso 1\n",
      "Mato Grosso do Sul 1\n",
      "Roraima 1\n",
      "Rondônia 1\n",
      "Acre 1\n",
      "Amapá 1\n",
      "Distrito Federal 1\n"
     ]
    }
   ],
   "source": [
    "for uf in df_conclu.des_uf_name.unique():\n",
    "\n",
    "    print(uf, df_conclu[df_conclu.des_uf_name == uf].ori_co_ibge.nunique()) # 92 - mas parece que só roda 87"
   ]
  },
  {
   "cell_type": "code",
   "execution_count": 71,
   "metadata": {},
   "outputs": [],
   "source": [
    "uf_select = df_conclu[df_conclu.des_uf_name == 'São Paulo']"
   ]
  },
  {
   "cell_type": "code",
   "execution_count": 72,
   "metadata": {
    "scrolled": true
   },
   "outputs": [
    {
     "data": {
      "text/plain": [
       "1"
      ]
     },
     "execution_count": 72,
     "metadata": {},
     "output_type": "execute_result"
    }
   ],
   "source": [
    "uf_select.ori_co_ibge.nunique()"
   ]
  },
  {
   "cell_type": "code",
   "execution_count": 73,
   "metadata": {},
   "outputs": [
    {
     "name": "stdout",
     "output_type": "stream",
     "text": [
      "1302603 - 190\n"
     ]
    }
   ],
   "source": [
    "for value in uf_select.ori_co_ibge.unique():\n",
    "\n",
    "    print(value, '-', uf_select[uf_select.ori_co_ibge == value].des_co_ibge.nunique())"
   ]
  },
  {
   "cell_type": "code",
   "execution_count": 74,
   "metadata": {},
   "outputs": [
    {
     "data": {
      "text/plain": [
       "set()"
      ]
     },
     "execution_count": 74,
     "metadata": {},
     "output_type": "execute_result"
    }
   ],
   "source": [
    "set(df_conclu.ori_co_ibge.unique()) - set(df_conclu[df_conclu.des_uf_name == 'Bahia'].ori_co_ibge.unique())"
   ]
  },
  {
   "cell_type": "code",
   "execution_count": 21,
   "metadata": {},
   "outputs": [
    {
     "data": {
      "text/plain": [
       "108"
      ]
     },
     "execution_count": 21,
     "metadata": {},
     "output_type": "execute_result"
    }
   ],
   "source": [
    "df_conclu[df_conclu.des_uf_name == 'Bahia'].des_co_ibge.nunique()"
   ]
  },
  {
   "cell_type": "code",
   "execution_count": null,
   "metadata": {},
   "outputs": [],
   "source": []
  },
  {
   "cell_type": "code",
   "execution_count": null,
   "metadata": {},
   "outputs": [],
   "source": []
  },
  {
   "cell_type": "code",
   "execution_count": null,
   "metadata": {},
   "outputs": [],
   "source": []
  },
  {
   "cell_type": "code",
   "execution_count": null,
   "metadata": {},
   "outputs": [],
   "source": []
  }
 ],
 "metadata": {
  "kernelspec": {
   "display_name": "Python 3",
   "language": "python",
   "name": "python3"
  },
  "language_info": {
   "codemirror_mode": {
    "name": "ipython",
    "version": 3
   },
   "file_extension": ".py",
   "mimetype": "text/x-python",
   "name": "python",
   "nbconvert_exporter": "python",
   "pygments_lexer": "ipython3",
   "version": "3.6.2"
  }
 },
 "nbformat": 4,
 "nbformat_minor": 5
}
