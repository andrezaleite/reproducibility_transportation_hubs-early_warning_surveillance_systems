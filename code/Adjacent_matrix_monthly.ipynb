{
 "cells": [
  {
   "cell_type": "code",
   "execution_count": 1,
   "metadata": {},
   "outputs": [],
   "source": [
    "import pandas as pd\n",
    "import pyarrow as pa\n",
    "import pyarrow.parquet as pq\n",
    "#read open data from ANAC\n",
    "link1 =  '/Users/andreza/reproducibility_transportation_hubs-early_warning_surveillance_systems/data/aero_anac_2017_2023.parquet'\n",
    "\n",
    "df2 = pd.read_parquet(link1, engine='pyarrow')"
   ]
  },
  {
   "cell_type": "code",
   "execution_count": 2,
   "metadata": {},
   "outputs": [],
   "source": [
    "muni = pd.read_csv('/Users/andreza/reproducibility_transportation_hubs-early_warning_surveillance_systems/data/DTB_BRASIL_MUNICIPIO.csv',sep=';')"
   ]
  },
  {
   "cell_type": "code",
   "execution_count": 3,
   "metadata": {},
   "outputs": [],
   "source": [
    "df2 = df2[df2['nat'] == 'DOMÉSTICA']"
   ]
  },
  {
   "cell_type": "code",
   "execution_count": 4,
   "metadata": {},
   "outputs": [],
   "source": [
    "df2.ano = df2.ano.astype(int)\n",
    "df2.mes = df2.mes.astype(int)"
   ]
  },
  {
   "cell_type": "code",
   "execution_count": 5,
   "metadata": {},
   "outputs": [],
   "source": [
    "busca = df2.index[df2['co_muni_des'] == 'SÃO LOURENÇO']\n",
    "df2.loc[busca, 'co_muni_des'] = 3163706\n",
    "busca = df2.index[df2['co_muni_des'] == 'COLATINA']\n",
    "df2.loc[busca, 'co_muni_des'] = 3201506"
   ]
  },
  {
   "cell_type": "code",
   "execution_count": 6,
   "metadata": {},
   "outputs": [],
   "source": [
    "df2.co_muni_ori = df2.co_muni_ori.astype(int)\n",
    "df2.co_muni_des = df2.co_muni_des.astype(int)"
   ]
  },
  {
   "cell_type": "code",
   "execution_count": 7,
   "metadata": {},
   "outputs": [],
   "source": [
    "data_2022 = df2[df2['ano'] == 2022]"
   ]
  },
  {
   "cell_type": "code",
   "execution_count": null,
   "metadata": {},
   "outputs": [],
   "source": [
    "# Create a dictionary to store adjacency matrices (origin vs destinations) for each month\n",
    "adjacency_matrices = {}\n",
    "\n",
    "# Loop through each month\n",
    "for month in range(1, 13):\n",
    "    # Filter the data for the current month\n",
    "    data_month = data_2022[data_2022['mes'] == month]\n",
    "    \n",
    "    # Create the adjacency matrix for the current month\n",
    "    adjacency_matrix = data_month.pivot_table(index='co_muni_ori', columns='co_muni_des', values='aero_pass', aggfunc='sum', fill_value=0)\n",
    "    \n",
    "    # Save the adjacency matrix for the current month in the dictionary\n",
    "    adjacency_matrices[month] = adjacency_matrix\n",
    "\n",
    "# Display or save the adjacency matrices for each month\n",
    "for month, adjacency_matrix in adjacency_matrices.items():\n",
    "    print(f\"Adjacency matrix for month {month}:\\n{adjacency_matrix}\\n\")"
   ]
  },
  {
   "cell_type": "code",
   "execution_count": null,
   "metadata": {},
   "outputs": [],
   "source": [
    "# check the number of rows and columns\n",
    "df_matrix_month_1 = adjacency_matrices[1]\n",
    "\n",
    "# Get the number of rows and columns\n",
    "num_rows, num_columns = df_matrix_month_1.shape\n",
    "\n",
    "# Print the number of rows and columns\n",
    "print(f\"Number of rows: {num_rows}\")\n",
    "print(f\"Number of columns: {num_columns}\")"
   ]
  },
  {
   "cell_type": "code",
   "execution_count": null,
   "metadata": {},
   "outputs": [],
   "source": [
    "#to make all 5570 municipalities present in the matrices columns\n",
    "#test month_1\n",
    "df3 = muni\n",
    "lst_2022 = set(df3['Código Município Completo']) - set(df_matrix_month_1.columns)"
   ]
  },
  {
   "cell_type": "code",
   "execution_count": null,
   "metadata": {},
   "outputs": [],
   "source": [
    "# for value in lst:\n",
    "# #     for matrix in adjacency_matrices.items():\n",
    "    \n",
    "#     lis = [0]*len(df_matrix_month_1)\n",
    "\n",
    "#     d = {value: lis}\n",
    "#     dtf = pd.DataFrame(data=d)\n",
    "#     dtf.set_index(df_matrix_month_1.index)\n",
    "    \n",
    "#     df_matrix_month_1 = df_matrix_month_1.join(dtf)\n",
    "\n",
    "#trying to make a parallel\n",
    "import pandas as pd\n",
    "from multiprocessing import Pool, cpu_count\n",
    "\n",
    "def process_value(value):\n",
    "    lis = [0] * len(df_matrix_month_1)\n",
    "    d = {value: lis}\n",
    "    dtf = pd.DataFrame(data=d)\n",
    "    dtf.set_index(df_matrix_month_1.index)\n",
    "    return dtf\n",
    "\n",
    "if __name__ == '__main__':\n",
    "    # Number of process and cpus\n",
    "    num_process = cpu_count()\n",
    "\n",
    "    # pool of process\n",
    "    pool = Pool(processes=num_process)\n",
    "\n",
    "    # Aplpy function processar_valor for each value in lst\n",
    "    results = pool.map(process_value, lst_2022)\n",
    "\n",
    "    # Close pool and make resources available\n",
    "    pool.close()\n",
    "    pool.join()\n",
    "\n",
    "    # Join results to the original DataFrame\n",
    "    for dtf in results:\n",
    "        df_matrix_month_1 = df_matrix_month_1.join(dtf)"
   ]
  },
  {
   "cell_type": "code",
   "execution_count": null,
   "metadata": {},
   "outputs": [],
   "source": [
    "# check the number of rows and columns\n",
    "# df_matrix_month_1 = adjacency_matrices[1]\n",
    "\n",
    "# Get the number of rows and columns\n",
    "num_rows, num_columns = df_matrix_month_1.shape\n",
    "\n",
    "# Print the number of rows and columns\n",
    "print(f\"Number of rows: {num_rows}\")\n",
    "print(f\"Number of columns: {num_columns}\")"
   ]
  },
  {
   "cell_type": "code",
   "execution_count": null,
   "metadata": {},
   "outputs": [],
   "source": [
    "#to make all 5570 municipalities present in the matrices rowns\n",
    "#test month_1\n",
    "lst_index = set(df3['Código Município Completo']) - set(df_matrix_month_1.index)"
   ]
  },
  {
   "cell_type": "code",
   "execution_count": null,
   "metadata": {},
   "outputs": [],
   "source": [
    "for value in lst_index:\n",
    "    df_matrix_month_1.loc[value] = [0]*5570"
   ]
  },
  {
   "cell_type": "code",
   "execution_count": null,
   "metadata": {},
   "outputs": [],
   "source": [
    "df_matrix_month_1 = df_matrix_month_1.fillna(0)\n",
    "df_matrix_month_1"
   ]
  },
  {
   "cell_type": "code",
   "execution_count": null,
   "metadata": {},
   "outputs": [],
   "source": [
    "#adaptando o codigo para iterar em todos os meses"
   ]
  },
  {
   "cell_type": "code",
   "execution_count": null,
   "metadata": {},
   "outputs": [],
   "source": [
    "for key, matrix in adjacency_matrices.items():\n",
    "    columns_to_add = set(df3['Código Município Completo']) - set(matrix.columns) # Get columns to add for the specific matrix\n",
    "    \n",
    "    # Determine columns that are missing in the matrix\n",
    "    missing_columns = list(columns_to_add)\n",
    "    \n",
    "    # Create a DataFrame with missing columns filled with zeros\n",
    "    new_columns_df = pd.DataFrame({col: [0] * len(matrix) for col in missing_columns}, index=matrix.index)\n",
    "    \n",
    "    # Join the new DataFrame to the specific matrix in adjacency_matrices\n",
    "    adjacency_matrices[key] = matrix.join(new_columns_df)"
   ]
  },
  {
   "cell_type": "code",
   "execution_count": null,
   "metadata": {},
   "outputs": [],
   "source": [
    "# Get the number of rows and columns\n",
    "for month in range(1, 13):\n",
    "    num_rows, num_columns = adjacency_matrices[month].shape\n",
    "    \n",
    "    # Print the number of rows and columns\n",
    "    print(f\"Month:{month}, Number of rows: {num_rows}, Number of columns: {num_columns}\")"
   ]
  },
  {
   "cell_type": "code",
   "execution_count": null,
   "metadata": {},
   "outputs": [],
   "source": [
    "%%time\n",
    "for month in range(1, 13):\n",
    "    lst_index = set(df3['Código Município Completo']) - set(adjacency_matrices[month].index)\n",
    "    for value in lst_index:\n",
    "        adjacency_matrices[month].loc[value] = [0]*5570"
   ]
  },
  {
   "cell_type": "code",
   "execution_count": null,
   "metadata": {},
   "outputs": [],
   "source": [
    "# dat_air = dat_air.fillna(0)\n",
    "# dat_air"
   ]
  },
  {
   "cell_type": "markdown",
   "metadata": {},
   "source": [
    "# Version 2\n",
    "## a new approach to work with a template/model df and generate all matrices"
   ]
  },
  {
   "cell_type": "code",
   "execution_count": 9,
   "metadata": {},
   "outputs": [
    {
     "name": "stdout",
     "output_type": "stream",
     "text": [
      "CPU times: user 1min 10s, sys: 23.8 s, total: 1min 33s\n",
      "Wall time: 1min 52s\n"
     ]
    },
    {
     "data": {
      "text/html": [
       "<div>\n",
       "<style scoped>\n",
       "    .dataframe tbody tr th:only-of-type {\n",
       "        vertical-align: middle;\n",
       "    }\n",
       "\n",
       "    .dataframe tbody tr th {\n",
       "        vertical-align: top;\n",
       "    }\n",
       "\n",
       "    .dataframe thead th {\n",
       "        text-align: right;\n",
       "    }\n",
       "</style>\n",
       "<table border=\"1\" class=\"dataframe\">\n",
       "  <thead>\n",
       "    <tr style=\"text-align: right;\">\n",
       "      <th></th>\n",
       "      <th>co_muni_ori</th>\n",
       "      <th>co_muni_des</th>\n",
       "    </tr>\n",
       "  </thead>\n",
       "  <tbody>\n",
       "    <tr>\n",
       "      <th>0</th>\n",
       "      <td>1100015</td>\n",
       "      <td>1100015</td>\n",
       "    </tr>\n",
       "    <tr>\n",
       "      <th>1</th>\n",
       "      <td>1100015</td>\n",
       "      <td>1100379</td>\n",
       "    </tr>\n",
       "    <tr>\n",
       "      <th>2</th>\n",
       "      <td>1100015</td>\n",
       "      <td>1100403</td>\n",
       "    </tr>\n",
       "    <tr>\n",
       "      <th>3</th>\n",
       "      <td>1100015</td>\n",
       "      <td>1100346</td>\n",
       "    </tr>\n",
       "    <tr>\n",
       "      <th>4</th>\n",
       "      <td>1100015</td>\n",
       "      <td>1100023</td>\n",
       "    </tr>\n",
       "    <tr>\n",
       "      <th>...</th>\n",
       "      <td>...</td>\n",
       "      <td>...</td>\n",
       "    </tr>\n",
       "    <tr>\n",
       "      <th>31024895</th>\n",
       "      <td>5300108</td>\n",
       "      <td>5222005</td>\n",
       "    </tr>\n",
       "    <tr>\n",
       "      <th>31024896</th>\n",
       "      <td>5300108</td>\n",
       "      <td>5222054</td>\n",
       "    </tr>\n",
       "    <tr>\n",
       "      <th>31024897</th>\n",
       "      <td>5300108</td>\n",
       "      <td>5222203</td>\n",
       "    </tr>\n",
       "    <tr>\n",
       "      <th>31024898</th>\n",
       "      <td>5300108</td>\n",
       "      <td>5222302</td>\n",
       "    </tr>\n",
       "    <tr>\n",
       "      <th>31024899</th>\n",
       "      <td>5300108</td>\n",
       "      <td>5300108</td>\n",
       "    </tr>\n",
       "  </tbody>\n",
       "</table>\n",
       "<p>31024900 rows × 2 columns</p>\n",
       "</div>"
      ],
      "text/plain": [
       "          co_muni_ori  co_muni_des\n",
       "0             1100015      1100015\n",
       "1             1100015      1100379\n",
       "2             1100015      1100403\n",
       "3             1100015      1100346\n",
       "4             1100015      1100023\n",
       "...               ...          ...\n",
       "31024895      5300108      5222005\n",
       "31024896      5300108      5222054\n",
       "31024897      5300108      5222203\n",
       "31024898      5300108      5222302\n",
       "31024899      5300108      5300108\n",
       "\n",
       "[31024900 rows x 2 columns]"
      ]
     },
     "execution_count": 9,
     "metadata": {},
     "output_type": "execute_result"
    }
   ],
   "source": [
    "%%time\n",
    "#genrate a model data frame with all pairs/combinations of municipalities 5570x5570\n",
    "df3 = muni\n",
    "list_cod_munic_completo = df3['Código Município Completo'].unique().tolist()\n",
    "lista_pares_munic_data = []\n",
    "for co_muni_ori in list_cod_munic_completo:\n",
    "    for co_muni_des in list_cod_munic_completo:\n",
    "        d_={}\n",
    "        d_['co_muni_ori']=co_muni_ori\n",
    "        d_['co_muni_des']=co_muni_des\n",
    "        lista_pares_munic_data.append(d_)\n",
    "        \n",
    "df_pares_municipios=pd.DataFrame(lista_pares_munic_data)\n",
    "df_pares_municipios"
   ]
  },
  {
   "cell_type": "code",
   "execution_count": 10,
   "metadata": {},
   "outputs": [
    {
     "data": {
      "text/plain": [
       "31024900"
      ]
     },
     "execution_count": 10,
     "metadata": {},
     "output_type": "execute_result"
    }
   ],
   "source": [
    "5570*5570"
   ]
  },
  {
   "cell_type": "markdown",
   "metadata": {},
   "source": [
    "## Data air - ANAC"
   ]
  },
  {
   "cell_type": "code",
   "execution_count": 11,
   "metadata": {},
   "outputs": [
    {
     "name": "stdout",
     "output_type": "stream",
     "text": [
      "CPU times: user 7min 6s, sys: 3min 29s, total: 10min 35s\n",
      "Wall time: 11min 45s\n"
     ]
    }
   ],
   "source": [
    "%%time\n",
    "adjacency_matrices_5570 = {}\n",
    "# Loop through each month\n",
    "for month in range(1, 13):\n",
    "    \n",
    "    # Filter data for the current month\n",
    "    df_mes = data_2022.query(f'mes=={month}')[['co_muni_ori', 'co_muni_des','aero_pass']]\n",
    "    \n",
    "    # Group by municipality pairs and sum the 'aero_pass' values\n",
    "    df_agrupado = df_mes.groupby(['co_muni_ori','co_muni_des']).sum().reset_index()\n",
    "    \n",
    "    # Merge with df_pares_municipios to ensure all pairs are included\n",
    "    df_com_5570 = df_agrupado.merge(df_pares_municipios,on=['co_muni_ori','co_muni_des'],how='right')\n",
    "    \n",
    "    # Pivot the data to create the adjacency matrix\n",
    "    matriz_5570 = df_com_5570.pivot_table(index='co_muni_ori', columns='co_muni_des', \n",
    "                                          values='aero_pass', aggfunc='sum', fill_value=0)\n",
    "    \n",
    "    # Store the resulting matrix in the adjacency_matrices_5570 dictionary\n",
    "    adjacency_matrices_5570[month] = matriz_5570\n",
    "    del matriz_5570"
   ]
  },
  {
   "cell_type": "code",
   "execution_count": null,
   "metadata": {},
   "outputs": [],
   "source": [
    "# memory MiB used in dataframe of month 1 \n",
    "print(round(adjacency_matrices_5570[1].memory_usage('deep').sum()/1024**2,2), 'MiB')"
   ]
  },
  {
   "cell_type": "code",
   "execution_count": 12,
   "metadata": {},
   "outputs": [
    {
     "name": "stdout",
     "output_type": "stream",
     "text": [
      "month 1 lines 5570 cols 5570\n",
      "month 2 lines 5570 cols 5570\n",
      "month 3 lines 5570 cols 5570\n",
      "month 4 lines 5570 cols 5570\n",
      "month 5 lines 5570 cols 5570\n",
      "month 6 lines 5570 cols 5570\n",
      "month 7 lines 5570 cols 5570\n",
      "month 8 lines 5570 cols 5570\n",
      "month 9 lines 5570 cols 5570\n",
      "month 10 lines 5570 cols 5570\n",
      "month 11 lines 5570 cols 5570\n",
      "month 12 lines 5570 cols 5570\n"
     ]
    }
   ],
   "source": [
    "for month in range(1, 13):\n",
    "    print('month',month,\n",
    "          'lines',adjacency_matrices_5570[month].shape[0],\n",
    "          'cols',adjacency_matrices_5570[month].shape[1])"
   ]
  },
  {
   "cell_type": "code",
   "execution_count": null,
   "metadata": {},
   "outputs": [],
   "source": []
  },
  {
   "cell_type": "code",
   "execution_count": null,
   "metadata": {},
   "outputs": [],
   "source": []
  },
  {
   "cell_type": "code",
   "execution_count": null,
   "metadata": {},
   "outputs": [],
   "source": [
    "adjacency_matrices_5570[1]"
   ]
  },
  {
   "cell_type": "code",
   "execution_count": null,
   "metadata": {},
   "outputs": [],
   "source": [
    "print(adjacency_matrices_5570[1].loc[1100924,1100189])\n",
    "print(adjacency_matrices_5570[1].loc[1100189,1100924])"
   ]
  },
  {
   "cell_type": "code",
   "execution_count": null,
   "metadata": {},
   "outputs": [],
   "source": [
    "print(adjacency_matrices_5570[1].loc[5108402,1100122])\n",
    "print(adjacency_matrices_5570[1].loc[1100122,5108402])"
   ]
  },
  {
   "cell_type": "code",
   "execution_count": null,
   "metadata": {},
   "outputs": [],
   "source": [
    "print(adjacency_matrices_5570[1].loc[1200401,1200203])\n",
    "print(adjacency_matrices_5570[1].loc[1200203,1200401])"
   ]
  },
  {
   "cell_type": "code",
   "execution_count": 13,
   "metadata": {},
   "outputs": [],
   "source": [
    "for month in range(1, 13):\n",
    "    adjacency_matrices_5570[month] = adjacency_matrices_5570[month].reindex(sorted(adjacency_matrices_5570[month].columns), axis=1)"
   ]
  },
  {
   "cell_type": "code",
   "execution_count": 14,
   "metadata": {},
   "outputs": [],
   "source": [
    "for month in range(1, 13):\n",
    "    adjacency_matrices_5570[month] = adjacency_matrices_5570[month].sort_index(axis=0)"
   ]
  },
  {
   "cell_type": "code",
   "execution_count": null,
   "metadata": {},
   "outputs": [],
   "source": [
    "# adjacency_matrices_5570[1]"
   ]
  },
  {
   "cell_type": "markdown",
   "metadata": {},
   "source": [
    "## normalize adjacency matrices to week and capacity (acording to IBGE normalization - bus) "
   ]
  },
  {
   "cell_type": "code",
   "execution_count": 25,
   "metadata": {},
   "outputs": [
    {
     "name": "stdout",
     "output_type": "stream",
     "text": [
      "CPU times: user 3.68 s, sys: 5.97 s, total: 9.64 s\n",
      "Wall time: 6.45 s\n"
     ]
    }
   ],
   "source": [
    "%%time\n",
    "# normalize matrices to number of passangers by week\n",
    "adjacency_matrices_5570_normalized = {}\n",
    "for month in range(1, 13):\n",
    "    adjacency_matrices_5570_normalized[month] = adjacency_matrices_5570[month]/4 "
   ]
  },
  {
   "cell_type": "code",
   "execution_count": 26,
   "metadata": {},
   "outputs": [
    {
     "name": "stdout",
     "output_type": "stream",
     "text": [
      "CPU times: user 3.4 s, sys: 5.91 s, total: 9.31 s\n",
      "Wall time: 7.06 s\n"
     ]
    }
   ],
   "source": [
    "%%time\n",
    "# normalize matrices to capacity (instead of number of passangers)\n",
    "#acording to IBGE normalization bus = 25\n",
    "adjacency_matrices_5570_normalized2 = {}\n",
    "for month in range(1, 13):\n",
    "    adjacency_matrices_5570_normalized2[month] = adjacency_matrices_5570_normalized[month]/25 "
   ]
  },
  {
   "cell_type": "code",
   "execution_count": null,
   "metadata": {},
   "outputs": [],
   "source": [
    "print(adjacency_matrices_5570_normalized[1].loc[1200401,1200203])\n",
    "print(adjacency_matrices_5570_normalized[1].loc[1200203,1200401])"
   ]
  },
  {
   "cell_type": "code",
   "execution_count": null,
   "metadata": {},
   "outputs": [],
   "source": []
  },
  {
   "cell_type": "markdown",
   "metadata": {},
   "source": [
    "## Road and water - IBGE"
   ]
  },
  {
   "cell_type": "code",
   "execution_count": 27,
   "metadata": {},
   "outputs": [],
   "source": [
    "# read open data from IBGE\n",
    "link0= '/Users/andreza/reproducibility_transportation_hubs-early_warning_surveillance_systems/data/fluvi_road_ibge.parquet'\n",
    "\n",
    "df = pd.read_parquet(link0, engine='pyarrow')"
   ]
  },
  {
   "cell_type": "code",
   "execution_count": 28,
   "metadata": {},
   "outputs": [
    {
     "data": {
      "text/plain": [
       "array(['AM', 'MT', 'PA', 'CE', 'PI', 'RN', 'SE', 'MG', 'GO', 'PB', 'BA',\n",
       "       'SP', 'PR', 'AP', 'MA', 'RS', 'SC', 'PE', 'TO', 'RJ', 'RO', 'AL',\n",
       "       'ES', 'DF', 'MS', 'AC', 'RR', 'ARG', 'PAR', 'VEN', 'PER', 'CHI',\n",
       "       'BOL', 'URU'], dtype=object)"
      ]
     },
     "execution_count": 28,
     "metadata": {},
     "output_type": "execute_result"
    }
   ],
   "source": [
    "# exclude international conection\n",
    "df.uf_des.unique()"
   ]
  },
  {
   "cell_type": "code",
   "execution_count": 29,
   "metadata": {},
   "outputs": [],
   "source": [
    "set_lis = ['AM', 'MT', 'PA', 'CE', 'PI', 'RN', 'SE', 'MG', 'BA', 'SP', 'PR',\n",
    "       'MA', 'AL', 'RS', 'SC', 'PE', 'AP', 'RJ', 'TO', 'GO', 'RO', 'PB',\n",
    "       'ES', 'AC', 'RR', 'MS', 'DF']\n",
    "\n",
    "df_road_water = df[df.uf_des.isin(set_lis)]"
   ]
  },
  {
   "cell_type": "code",
   "execution_count": null,
   "metadata": {},
   "outputs": [],
   "source": [
    "df_road_water\n",
    "#data is in a week format, only need to normalize matrice to month and merge with air matrices"
   ]
  },
  {
   "cell_type": "code",
   "execution_count": null,
   "metadata": {},
   "outputs": [],
   "source": [
    "#select 2022 travels ???\n",
    "# df_road_water_2022 = df_road_water[df_road_water['ano'] == 2022] #ajustar nome coluna"
   ]
  },
  {
   "cell_type": "code",
   "execution_count": null,
   "metadata": {},
   "outputs": [],
   "source": [
    "# %%time\n",
    "# adjacency_matrices_5570_road = {}\n",
    "# # Loop through each month\n",
    "# for month in range(1, 13):\n",
    "#     #ajustar nomes colunas\n",
    "    \n",
    "#     # Filter data for the current month\n",
    "#     df_mes = df_road_water[['co_muni_ori', 'co_muni_des', 'tot_conec']].rename(columns={'tot_conec': 'aero_pass'})\n",
    "    \n",
    "#     # Group by municipality pairs and sum the 'aero_pass' values\n",
    "#     df_agrupado = df_mes.groupby(['co_muni_ori','co_muni_des']).sum().reset_index()\n",
    "    \n",
    "#     # Merge with df_pares_municipios to ensure all pairs are included\n",
    "#     df_com_5570 = df_agrupado.merge(df_pares_municipios,on=['co_muni_ori','co_muni_des'],how='right')\n",
    "    \n",
    "#     # Pivot the data to create the adjacency matrix\n",
    "#     matriz_5570 = df_com_5570.pivot_table(index='co_muni_ori', columns='co_muni_des', \n",
    "#                                           values='aero_pass', aggfunc='sum', fill_value=0)\n",
    "    \n",
    "#     # Store the resulting matrix in the adjacency_matrices_5570 dictionary\n",
    "#     adjacency_matrices_5570_road[month] = matriz_5570\n",
    "#     del matriz_5570"
   ]
  },
  {
   "cell_type": "code",
   "execution_count": null,
   "metadata": {},
   "outputs": [],
   "source": [
    "# # Get the number of rows and columns\n",
    "# for month in range(1, 13):\n",
    "#     num_rows, num_columns = adjacency_matrices[month].shape\n",
    "    \n",
    "#     # Print the number of rows and columns\n",
    "#     print(f\"Month:{month}, Number of rows: {num_rows}, Number of columns: {num_columns}\")"
   ]
  },
  {
   "cell_type": "markdown",
   "metadata": {},
   "source": [
    "# Sum aero, road and waterway matrices"
   ]
  },
  {
   "cell_type": "code",
   "execution_count": 30,
   "metadata": {},
   "outputs": [],
   "source": [
    "# Read the Adjacent matrix\n",
    "link2 = '/Users/andreza/reproducibility_transportation_hubs-early_warning_surveillance_systems/code/road_water_adjacency_matrix_symetric.parquet'\n",
    "\n",
    "adjacency_matrices_5570_road = pd.read_parquet(link2, engine='pyarrow')"
   ]
  },
  {
   "cell_type": "code",
   "execution_count": 31,
   "metadata": {},
   "outputs": [],
   "source": [
    "adjacency_matrices_5570_road_normalized = adjacency_matrices_5570_road"
   ]
  },
  {
   "cell_type": "code",
   "execution_count": 32,
   "metadata": {
    "scrolled": true
   },
   "outputs": [
    {
     "name": "stdout",
     "output_type": "stream",
     "text": [
      "CPU times: user 17.2 s, sys: 9.93 s, total: 27.2 s\n",
      "Wall time: 26 s\n"
     ]
    }
   ],
   "source": [
    "%%time\n",
    "adjacency_matrices_5570_complete = {}\n",
    "for month in range(1, 13):\n",
    "    adjacency_matrices_5570_complete[month] = adjacency_matrices_5570_road_normalized.add(\n",
    "        adjacency_matrices_5570_normalized2[month], fill_value=0)"
   ]
  },
  {
   "cell_type": "code",
   "execution_count": null,
   "metadata": {},
   "outputs": [],
   "source": [
    "adjacency_matrices_5570_complete[1]"
   ]
  },
  {
   "cell_type": "code",
   "execution_count": 33,
   "metadata": {},
   "outputs": [
    {
     "name": "stdout",
     "output_type": "stream",
     "text": [
      "Month:1, Number of rows: 5570, Number of columns: 5570\n",
      "Month:2, Number of rows: 5570, Number of columns: 5570\n",
      "Month:3, Number of rows: 5570, Number of columns: 5570\n",
      "Month:4, Number of rows: 5570, Number of columns: 5570\n",
      "Month:5, Number of rows: 5570, Number of columns: 5570\n",
      "Month:6, Number of rows: 5570, Number of columns: 5570\n",
      "Month:7, Number of rows: 5570, Number of columns: 5570\n",
      "Month:8, Number of rows: 5570, Number of columns: 5570\n",
      "Month:9, Number of rows: 5570, Number of columns: 5570\n",
      "Month:10, Number of rows: 5570, Number of columns: 5570\n",
      "Month:11, Number of rows: 5570, Number of columns: 5570\n",
      "Month:12, Number of rows: 5570, Number of columns: 5570\n"
     ]
    }
   ],
   "source": [
    "# Get the number of rows and columns\n",
    "for month in range(1, 13):\n",
    "    num_rows, num_columns = adjacency_matrices_5570_complete[month].shape\n",
    "    \n",
    "    # Print the number of rows and columns\n",
    "    print(f\"Month:{month}, Number of rows: {num_rows}, Number of columns: {num_columns}\")"
   ]
  },
  {
   "cell_type": "code",
   "execution_count": 34,
   "metadata": {},
   "outputs": [],
   "source": [
    "#save adjacency matrices monthly\n",
    "for month in range(1, 13):\n",
    "    table = pa.Table.from_pandas(adjacency_matrices_5570_complete[month])\n",
    "    pq.write_table(table, f\"adjacency_matrix_complete_{month}.parquet\")"
   ]
  },
  {
   "cell_type": "code",
   "execution_count": null,
   "metadata": {},
   "outputs": [],
   "source": [
    "print(adjacency_matrices_5570_complete[1].loc[1200401,1200203])\n",
    "print(adjacency_matrices_5570_complete[1].loc[1200203,1200401])"
   ]
  },
  {
   "cell_type": "code",
   "execution_count": null,
   "metadata": {},
   "outputs": [],
   "source": [
    "print(adjacency_matrices_5570_road_normalized.loc[1200401,1200203])\n",
    "print(adjacency_matrices_5570_road_normalized.loc[1200203,1200401])"
   ]
  },
  {
   "cell_type": "code",
   "execution_count": null,
   "metadata": {},
   "outputs": [],
   "source": [
    "print(adjacency_matrices_5570_normalized[1].loc[1200401,1200203])\n",
    "print(adjacency_matrices_5570_normalized[1].loc[1200203,1200401])"
   ]
  },
  {
   "cell_type": "code",
   "execution_count": null,
   "metadata": {},
   "outputs": [],
   "source": []
  },
  {
   "cell_type": "code",
   "execution_count": null,
   "metadata": {},
   "outputs": [],
   "source": []
  }
 ],
 "metadata": {
  "kernelspec": {
   "display_name": "Python 3",
   "language": "python",
   "name": "python3"
  },
  "language_info": {
   "codemirror_mode": {
    "name": "ipython",
    "version": 3
   },
   "file_extension": ".py",
   "mimetype": "text/x-python",
   "name": "python",
   "nbconvert_exporter": "python",
   "pygments_lexer": "ipython3",
   "version": "3.6.2"
  }
 },
 "nbformat": 4,
 "nbformat_minor": 4
}
