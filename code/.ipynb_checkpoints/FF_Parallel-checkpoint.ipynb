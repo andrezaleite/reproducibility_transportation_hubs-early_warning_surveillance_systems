{
 "cells": [
  {
   "cell_type": "code",
   "execution_count": 1,
   "metadata": {},
   "outputs": [],
   "source": [
    "import pandas as pd\n",
    "import pyarrow as pa\n",
    "import pyarrow.parquet as pq\n",
    "import numpy as np"
   ]
  },
  {
   "cell_type": "code",
   "execution_count": null,
   "metadata": {
    "scrolled": true
   },
   "outputs": [],
   "source": []
  },
  {
   "cell_type": "markdown",
   "metadata": {},
   "source": [
    "# Read data"
   ]
  },
  {
   "cell_type": "code",
   "execution_count": 2,
   "metadata": {},
   "outputs": [],
   "source": [
    "# Read dictionary with municipalities\n",
    "muni = pd.read_csv('C:\\\\Users\\\\Andreza\\\\Downloads\\\\DTB_BRASIL_MUNICIPIO.csv',sep = ';')\n",
    "    "
   ]
  },
  {
   "cell_type": "code",
   "execution_count": 3,
   "metadata": {},
   "outputs": [],
   "source": [
    "muni = muni[['UF', 'Nome_UF', 'Mesorregião Geográfica', 'Nome_Mesorregião',\n",
    "       'Microrregião Geográfica', 'Nome_Microrregião', 'Município',\n",
    "       'Código Município Completo', 'Nome_Município']]"
   ]
  },
  {
   "cell_type": "code",
   "execution_count": 4,
   "metadata": {},
   "outputs": [],
   "source": [
    "# Read the Adjacent matrix\n",
    "link0 = 'C:\\\\Users\\\\Andreza\\\\Downloads\\\\adjacency_matrix_correct.parquet'\n",
    "\n",
    "matrix = pd.read_parquet(link0, engine='pyarrow')"
   ]
  },
  {
   "cell_type": "code",
   "execution_count": 5,
   "metadata": {},
   "outputs": [],
   "source": [
    "df_np = matrix.to_numpy()"
   ]
  },
  {
   "cell_type": "code",
   "execution_count": 6,
   "metadata": {},
   "outputs": [],
   "source": [
    "hubs = pd.read_csv('C:\\\\Users\\\\Andreza\\\\Downloads\\\\lists_of_hubs.csv')"
   ]
  },
  {
   "cell_type": "markdown",
   "metadata": {},
   "source": [
    "# Functions"
   ]
  },
  {
   "cell_type": "code",
   "execution_count": 7,
   "metadata": {},
   "outputs": [],
   "source": [
    "link_muni_vertice = pd.DataFrame(matrix.columns, columns=['muni'])"
   ]
  },
  {
   "cell_type": "code",
   "execution_count": 8,
   "metadata": {},
   "outputs": [],
   "source": [
    "def get_mname(n):\n",
    "    \n",
    "    m = link_muni_vertice.iloc[n]['muni']\n",
    "    set_muni = muni[muni['Código Município Completo'] == m].reset_index()\n",
    "    return [set_muni.iloc[0]['Nome_Município'],set_muni.iloc[0]['Nome_UF'],m]\n",
    "   \n",
    "#def get_mnumber(name):\n",
    "#    muni[muni['Nome_Município'] == name]\n",
    "#    \n",
    "#    co_mu = muni[muni['Nome_Município'] == name].reset_index()['Código Município Completo'][0]\n",
    "#    muni_number = link_muni_vertice[link_muni_vertice['muni'] == co_mu]['muni'].index.tolist()[0]\n",
    "#    return [muni_number, co_mu]\n",
    "\n",
    "def get_mnumber(name,uf):\n",
    "    \n",
    "    set_df = muni[(muni['Nome_Município'] == name) & (muni['Nome_UF'] == uf)].reset_index()\n",
    "    \n",
    "    co_mu = set_df['Código Município Completo'][0]\n",
    "    \n",
    "    muni_number = link_muni_vertice[link_muni_vertice['muni'] == co_mu]['muni'].index.tolist()[0]\n",
    "    \n",
    "    return [muni_number, co_mu]"
   ]
  },
  {
   "cell_type": "code",
   "execution_count": 9,
   "metadata": {},
   "outputs": [],
   "source": [
    "def get_mnumber_of_set(df_col):\n",
    "    muni_number = []\n",
    "\n",
    "    for i in range(0,len(df_col)):\n",
    "    \n",
    "        uf = df_col['Nome_UF'].iloc[i]\n",
    "    \n",
    "        city = df_col['Nome_Município'].iloc[i]\n",
    "    \n",
    "        muni_number.append(get_mnumber(city,uf)[0])\n",
    "    \n",
    "    return muni_number"
   ]
  },
  {
   "cell_type": "code",
   "execution_count": 10,
   "metadata": {},
   "outputs": [],
   "source": [
    "# Python program for implementation\n",
    "# of Ford Fulkerson algorithm\n",
    "from collections import defaultdict\n",
    "\n",
    "# This class represents a directed graph\n",
    "# using adjacency matrix representation\n",
    "        \n",
    "class Graph:\n",
    "\n",
    "    def __init__(self, graph):\n",
    "        self.graph = graph # residual graph\n",
    "        self. ROW = len(graph)\n",
    "        # self.COL = len(gr[0])\n",
    "\n",
    "\n",
    "    '''Returns true if there is a path from source 's' to sink 't' in\n",
    "    residual graph. Also fills parent[] to store the path '''\n",
    "\n",
    "\n",
    "    def BFS(self, s, t, parent):\n",
    "        visited = [False] * self.ROW\n",
    "        queue = []\n",
    "        queue.append(s)\n",
    "        visited[s] = True\n",
    "\n",
    "        while queue:\n",
    "            u = queue.pop(0)\n",
    "            for ind, val in enumerate(self.graph[u]):\n",
    "                if visited[ind] == False and val > 0:\n",
    "                    queue.append(ind)\n",
    "                    visited[ind] = True\n",
    "                    parent[ind] = u\n",
    "                    if ind == t:\n",
    "                        return True\n",
    "        return False\n",
    "\n",
    "    def FordFulkerson(self, source, sink):\n",
    "        parent = [-1] * self.ROW\n",
    "        max_flow = 0\n",
    "        paths = []  # List to store the paths\n",
    "        value_path = []\n",
    "\n",
    "        while self.BFS(source, sink, parent):\n",
    "            path_flow = float(\"inf\")\n",
    "            s = sink\n",
    "            while s != source:\n",
    "                path_flow = min(path_flow, self.graph[parent[s]][s])\n",
    "                s = parent[s]\n",
    "\n",
    "            max_flow += path_flow\n",
    "\n",
    "            # Store the current path\n",
    "            current_path = []\n",
    "            v = sink\n",
    "            while v != source:\n",
    "                u = parent[v]\n",
    "                current_path.append((u, v))\n",
    "                self.graph[u][v] -= path_flow\n",
    "                self.graph[v][u] += path_flow\n",
    "                v = parent[v]\n",
    "            paths.append(current_path)\n",
    "            value_path.append(max_flow)\n",
    "            \n",
    "            if len(current_path) > 3:\n",
    "                break\n",
    "\n",
    "        df_paths = pd.DataFrame(paths).transpose()\n",
    "        return max_flow, df_paths,value_path"
   ]
  },
  {
   "cell_type": "markdown",
   "metadata": {},
   "source": [
    "# Define the list of municipalities as the origen and destination to run the FF method"
   ]
  },
  {
   "cell_type": "markdown",
   "metadata": {},
   "source": [
    "## Destination"
   ]
  },
  {
   "cell_type": "code",
   "execution_count": 11,
   "metadata": {},
   "outputs": [],
   "source": [
    "selec_hubs = hubs[hubs['hub_inter'] == 1]"
   ]
  },
  {
   "cell_type": "code",
   "execution_count": 12,
   "metadata": {},
   "outputs": [
    {
     "data": {
      "text/html": [
       "<div>\n",
       "<style scoped>\n",
       "    .dataframe tbody tr th:only-of-type {\n",
       "        vertical-align: middle;\n",
       "    }\n",
       "\n",
       "    .dataframe tbody tr th {\n",
       "        vertical-align: top;\n",
       "    }\n",
       "\n",
       "    .dataframe thead th {\n",
       "        text-align: right;\n",
       "    }\n",
       "</style>\n",
       "<table border=\"1\" class=\"dataframe\">\n",
       "  <thead>\n",
       "    <tr style=\"text-align: right;\">\n",
       "      <th></th>\n",
       "      <th>Unnamed: 0</th>\n",
       "      <th>Nome_UF</th>\n",
       "      <th>co_ibge</th>\n",
       "      <th>Nome_Município</th>\n",
       "      <th>hub_ind_proxi</th>\n",
       "      <th>hub_ind_intermed</th>\n",
       "      <th>hub_inter</th>\n",
       "    </tr>\n",
       "  </thead>\n",
       "  <tbody>\n",
       "    <tr>\n",
       "      <th>1</th>\n",
       "      <td>1</td>\n",
       "      <td>Pará</td>\n",
       "      <td>1502954</td>\n",
       "      <td>Eldorado do Carajás</td>\n",
       "      <td>0.0</td>\n",
       "      <td>1.0</td>\n",
       "      <td>1.0</td>\n",
       "    </tr>\n",
       "    <tr>\n",
       "      <th>2</th>\n",
       "      <td>2</td>\n",
       "      <td>Tocantins</td>\n",
       "      <td>1702554</td>\n",
       "      <td>Augustinópolis</td>\n",
       "      <td>0.0</td>\n",
       "      <td>1.0</td>\n",
       "      <td>1.0</td>\n",
       "    </tr>\n",
       "    <tr>\n",
       "      <th>4</th>\n",
       "      <td>4</td>\n",
       "      <td>Maranhão</td>\n",
       "      <td>2108207</td>\n",
       "      <td>Pedreiras</td>\n",
       "      <td>0.0</td>\n",
       "      <td>1.0</td>\n",
       "      <td>1.0</td>\n",
       "    </tr>\n",
       "    <tr>\n",
       "      <th>7</th>\n",
       "      <td>7</td>\n",
       "      <td>Paraíba</td>\n",
       "      <td>2517001</td>\n",
       "      <td>Umbuzeiro</td>\n",
       "      <td>0.0</td>\n",
       "      <td>1.0</td>\n",
       "      <td>1.0</td>\n",
       "    </tr>\n",
       "    <tr>\n",
       "      <th>9</th>\n",
       "      <td>9</td>\n",
       "      <td>Bahia</td>\n",
       "      <td>2926301</td>\n",
       "      <td>Riachão do Jacuípe</td>\n",
       "      <td>1.0</td>\n",
       "      <td>1.0</td>\n",
       "      <td>1.0</td>\n",
       "    </tr>\n",
       "  </tbody>\n",
       "</table>\n",
       "</div>"
      ],
      "text/plain": [
       "   Unnamed: 0    Nome_UF  co_ibge       Nome_Município  hub_ind_proxi  \\\n",
       "1           1       Pará  1502954  Eldorado do Carajás            0.0   \n",
       "2           2  Tocantins  1702554       Augustinópolis            0.0   \n",
       "4           4   Maranhão  2108207            Pedreiras            0.0   \n",
       "7           7    Paraíba  2517001            Umbuzeiro            0.0   \n",
       "9           9      Bahia  2926301   Riachão do Jacuípe            1.0   \n",
       "\n",
       "   hub_ind_intermed  hub_inter  \n",
       "1               1.0        1.0  \n",
       "2               1.0        1.0  \n",
       "4               1.0        1.0  \n",
       "7               1.0        1.0  \n",
       "9               1.0        1.0  "
      ]
     },
     "execution_count": 12,
     "metadata": {},
     "output_type": "execute_result"
    }
   ],
   "source": [
    "selec_hubs.head()"
   ]
  },
  {
   "cell_type": "code",
   "execution_count": 13,
   "metadata": {
    "scrolled": false
   },
   "outputs": [],
   "source": [
    "selec_hubs = selec_hubs.assign(muni_number = get_mnumber_of_set(selec_hubs))"
   ]
  },
  {
   "cell_type": "code",
   "execution_count": 14,
   "metadata": {},
   "outputs": [],
   "source": [
    "# selec_hubs = selec_hubs[selec_hubs.Nome_UF == 'Acre']"
   ]
  },
  {
   "cell_type": "markdown",
   "metadata": {},
   "source": [
    "## Origin"
   ]
  },
  {
   "cell_type": "code",
   "execution_count": 15,
   "metadata": {},
   "outputs": [],
   "source": [
    "ac_muni = muni[muni.Nome_UF == 'Rio de Janeiro']"
   ]
  },
  {
   "cell_type": "code",
   "execution_count": 16,
   "metadata": {},
   "outputs": [],
   "source": [
    "ac_muni = ac_muni.assign(muni_number = get_mnumber_of_set(ac_muni))"
   ]
  },
  {
   "cell_type": "code",
   "execution_count": 17,
   "metadata": {},
   "outputs": [
    {
     "data": {
      "text/html": [
       "<div>\n",
       "<style scoped>\n",
       "    .dataframe tbody tr th:only-of-type {\n",
       "        vertical-align: middle;\n",
       "    }\n",
       "\n",
       "    .dataframe tbody tr th {\n",
       "        vertical-align: top;\n",
       "    }\n",
       "\n",
       "    .dataframe thead th {\n",
       "        text-align: right;\n",
       "    }\n",
       "</style>\n",
       "<table border=\"1\" class=\"dataframe\">\n",
       "  <thead>\n",
       "    <tr style=\"text-align: right;\">\n",
       "      <th></th>\n",
       "      <th>UF</th>\n",
       "      <th>Nome_UF</th>\n",
       "      <th>Mesorregião Geográfica</th>\n",
       "      <th>Nome_Mesorregião</th>\n",
       "      <th>Microrregião Geográfica</th>\n",
       "      <th>Nome_Microrregião</th>\n",
       "      <th>Município</th>\n",
       "      <th>Código Município Completo</th>\n",
       "      <th>Nome_Município</th>\n",
       "      <th>muni_number</th>\n",
       "    </tr>\n",
       "  </thead>\n",
       "  <tbody>\n",
       "    <tr>\n",
       "      <th>3175</th>\n",
       "      <td>33</td>\n",
       "      <td>Rio de Janeiro</td>\n",
       "      <td>5</td>\n",
       "      <td>Sul Fluminense</td>\n",
       "      <td>13</td>\n",
       "      <td>Baía da Ilha Grande</td>\n",
       "      <td>100</td>\n",
       "      <td>3300100</td>\n",
       "      <td>Angra dos Reis</td>\n",
       "      <td>3175</td>\n",
       "    </tr>\n",
       "    <tr>\n",
       "      <th>3176</th>\n",
       "      <td>33</td>\n",
       "      <td>Rio de Janeiro</td>\n",
       "      <td>1</td>\n",
       "      <td>Noroeste Fluminense</td>\n",
       "      <td>2</td>\n",
       "      <td>Santo Antônio de Pádua</td>\n",
       "      <td>159</td>\n",
       "      <td>3300159</td>\n",
       "      <td>Aperibé</td>\n",
       "      <td>3176</td>\n",
       "    </tr>\n",
       "    <tr>\n",
       "      <th>3177</th>\n",
       "      <td>33</td>\n",
       "      <td>Rio de Janeiro</td>\n",
       "      <td>4</td>\n",
       "      <td>Baixadas</td>\n",
       "      <td>10</td>\n",
       "      <td>Lagos</td>\n",
       "      <td>209</td>\n",
       "      <td>3300209</td>\n",
       "      <td>Araruama</td>\n",
       "      <td>3177</td>\n",
       "    </tr>\n",
       "    <tr>\n",
       "      <th>3178</th>\n",
       "      <td>33</td>\n",
       "      <td>Rio de Janeiro</td>\n",
       "      <td>3</td>\n",
       "      <td>Centro Fluminense</td>\n",
       "      <td>5</td>\n",
       "      <td>Três Rios</td>\n",
       "      <td>225</td>\n",
       "      <td>3300225</td>\n",
       "      <td>Areal</td>\n",
       "      <td>3178</td>\n",
       "    </tr>\n",
       "    <tr>\n",
       "      <th>3179</th>\n",
       "      <td>33</td>\n",
       "      <td>Rio de Janeiro</td>\n",
       "      <td>4</td>\n",
       "      <td>Baixadas</td>\n",
       "      <td>10</td>\n",
       "      <td>Lagos</td>\n",
       "      <td>233</td>\n",
       "      <td>3300233</td>\n",
       "      <td>Armação dos Búzios</td>\n",
       "      <td>3179</td>\n",
       "    </tr>\n",
       "  </tbody>\n",
       "</table>\n",
       "</div>"
      ],
      "text/plain": [
       "      UF         Nome_UF  Mesorregião Geográfica     Nome_Mesorregião  \\\n",
       "3175  33  Rio de Janeiro                       5       Sul Fluminense   \n",
       "3176  33  Rio de Janeiro                       1  Noroeste Fluminense   \n",
       "3177  33  Rio de Janeiro                       4             Baixadas   \n",
       "3178  33  Rio de Janeiro                       3    Centro Fluminense   \n",
       "3179  33  Rio de Janeiro                       4             Baixadas   \n",
       "\n",
       "      Microrregião Geográfica       Nome_Microrregião  Município  \\\n",
       "3175                       13     Baía da Ilha Grande        100   \n",
       "3176                        2  Santo Antônio de Pádua        159   \n",
       "3177                       10                   Lagos        209   \n",
       "3178                        5               Três Rios        225   \n",
       "3179                       10                   Lagos        233   \n",
       "\n",
       "      Código Município Completo      Nome_Município  muni_number  \n",
       "3175                    3300100      Angra dos Reis         3175  \n",
       "3176                    3300159             Aperibé         3176  \n",
       "3177                    3300209            Araruama         3177  \n",
       "3178                    3300225               Areal         3178  \n",
       "3179                    3300233  Armação dos Búzios         3179  "
      ]
     },
     "execution_count": 17,
     "metadata": {},
     "output_type": "execute_result"
    }
   ],
   "source": [
    "ac_muni.head()"
   ]
  },
  {
   "cell_type": "markdown",
   "metadata": {},
   "source": [
    "# Run method for the list of municipalities selected"
   ]
  },
  {
   "cell_type": "code",
   "execution_count": 18,
   "metadata": {},
   "outputs": [
    {
     "name": "stdout",
     "output_type": "stream",
     "text": [
      "92 , 1391 , 127972\n"
     ]
    }
   ],
   "source": [
    "lst1 = list(ac_muni['muni_number']) #[52,53,54,55,56,58,59,60,61,62,63,64,65,66,67,68,69,71,72,73]\n",
    "lst2 = list(selec_hubs['muni_number'])#[57,67,70, 108,119,111,102,91]#list(range(1,5570,1))\n",
    "\n",
    "print(len(lst1), ',', len(lst2), ',', len(lst1)*len(lst2))"
   ]
  },
  {
   "cell_type": "code",
   "execution_count": null,
   "metadata": {},
   "outputs": [],
   "source": []
  },
  {
   "cell_type": "code",
   "execution_count": null,
   "metadata": {},
   "outputs": [],
   "source": []
  },
  {
   "cell_type": "code",
   "execution_count": 19,
   "metadata": {
    "scrolled": false
   },
   "outputs": [],
   "source": [
    "# #original\n",
    "# import timeit\n",
    "\n",
    "# start_time = timeit.default_timer()\n",
    "    \n",
    "# for value in [(x, y) for x in lst1 for y in lst2]:#zip(lst1,lst2):\n",
    "#     n,m = value\n",
    "    \n",
    "#     #Part 1 - carregando os dados da matriz\n",
    "#     #start_time = timeit.default_timer()\n",
    "    \n",
    "#     matrix = pd.read_parquet(link0, engine='pyarrow')\n",
    "#     df_np = matrix.to_numpy()\n",
    "    \n",
    "#     #elapsed = timeit.default_timer() - start_time\n",
    "#     #print(\"Part 1: \" + str(elapsed))    #Part 2 - gerando o grafo\n",
    "#     #start_time = timeit.default_timer()\n",
    "#     graph = df_np\n",
    "#     g = Graph(graph)\n",
    "#     #elapsed = timeit.default_timer() - start_time\n",
    "#     #print(\"Part 2: \" + str(elapsed))\n",
    "    \n",
    "#     #Part 3 chamada FF\n",
    "#     #start_time = timeit.default_timer()\n",
    "#     max_flow, df_paths, value_path = g.FordFulkerson(n, m)\n",
    "    \n",
    "#     #elapsed = timeit.default_timer() - start_time\n",
    "#     #print(\"Part 3: \" + str(elapsed))\n",
    "    \n",
    "    \n",
    "#     #Part 4\n",
    "#     #start_time = timeit.default_timer()\n",
    "#     # transform df int a variable of lists\n",
    "#     lists = [df_paths[col].tolist() for col in df_paths]\n",
    "\n",
    "#     #elapsed = timeit.default_timer() - start_time\n",
    "#     #print(\"Part 4: \" + str(elapsed))\n",
    "    \n",
    "#     #Part 5\n",
    "#     #start_time = timeit.default_timer()\n",
    "    \n",
    "#     #format value_path\n",
    "#     path_value = pd.DataFrame(value_path, columns=['value_cum'])\n",
    "#     path_value = path_value.assign(value = path_value['value_cum']-path_value['value_cum'].shift())\n",
    "#     path_value['value'] = path_value['value'].fillna(0)\n",
    "#     #path_value['value'].iloc[0] = path_value['value_cum'].iloc[0]\n",
    "#     path_value['ori_muni_name'] = get_mname(n)[0]\n",
    "#     path_value['ori_uf_name'] = get_mname(n)[1]\n",
    "#     path_value['ori_co_ibge'] = get_mname(n)[2]\n",
    "#     path_value['des_muni_name'] = get_mname(m)[0]\n",
    "#     path_value['des_uf_name'] = get_mname(m)[1]\n",
    "#     path_value['des_co_ibge'] = get_mname(m)[2]\n",
    "#     #add lists to path_value\n",
    "#     path_value = path_value.assign(paths = lists)\n",
    "    \n",
    "#     #path_value.value[0] = path_value.value_cum[0]\n",
    "    \n",
    "#     # Save df_paths\n",
    "#     #table1 = pa.Table.from_pandas(df_paths)\n",
    "\n",
    "#     #string1 = str(get_mname(n)[2]) + '_' + str(get_mname(m)[2]) + '_' + 'path'\n",
    "\n",
    "#     #path_to_save1 = '../FF_path_results_Acre/{}.parquet'.format(string1)\n",
    "\n",
    "#     #pq.write_table(table1, path_to_save1)\n",
    "    \n",
    "#     #save path_value\n",
    "    \n",
    "#     table2 = pa.Table.from_pandas(path_value)\n",
    "\n",
    "#     string2 = str(get_mname(n)[2]) + '_' + str(get_mname(m)[2]) + '_' + 'path_value'\n",
    "\n",
    "#     path_to_save2 = 'C:\\\\Users\\\\Andreza\\\\Downloads\\\\FF_path_results_Acre{}.parquet'.format(string2)\n",
    "\n",
    "#     pq.write_table(table2, path_to_save2)\n",
    "    \n",
    "# elapsed = timeit.default_timer() - start_time\n",
    "# print(\"Time: \" + str(elapsed))"
   ]
  },
  {
   "cell_type": "code",
   "execution_count": null,
   "metadata": {},
   "outputs": [],
   "source": [
    "# Define a function to process each value in parallel\n",
    "def process_value(value):\n",
    "    n, m = value\n",
    "\n",
    "    matrix = pd.read_parquet(link0, engine='pyarrow')\n",
    "    df_np = matrix.to_numpy()\n",
    "\n",
    "    graph = df_np\n",
    "    g = Graph(graph)\n",
    "\n",
    "    max_flow, df_paths, value_path = g.FordFulkerson(n, m)\n",
    "    # transform df int a variable of lists\n",
    "    lists = [df_paths[col].tolist() for col in df_paths]\n",
    "    \n",
    "    #format value_path\n",
    "    path_value = pd.DataFrame(value_path, columns=['value_cum'])\n",
    "    path_value = path_value.assign(value=path_value['value_cum'] - path_value['value_cum'].shift())\n",
    "    path_value['value'] = path_value['value'].fillna(0)\n",
    "    path_value['ori_muni_name'] = get_mname(n)[0]\n",
    "    path_value['ori_uf_name'] = get_mname(n)[1]\n",
    "    path_value['ori_co_ibge'] = get_mname(n)[2]\n",
    "    path_value['des_muni_name'] = get_mname(m)[0]\n",
    "    path_value['des_uf_name'] = get_mname(m)[1]\n",
    "    path_value['des_co_ibge'] = get_mname(m)[2]\n",
    "    \n",
    "    #add lists to path_value\n",
    "    path_value = path_value.assign(paths=lists)\n",
    "    \n",
    "    #save path_value\n",
    "    table2 = pa.Table.from_pandas(path_value)\n",
    "\n",
    "    string2 = str(get_mname(n)[2]) + '_' + str(get_mname(m)[2]) + '_' + 'path_value'\n",
    "\n",
    "    path_to_save2 = 'C:\\\\Users\\\\Andreza\\\\Downloads\\\\results\\\\FF_path_results_RJ\\\\{}.parquet'.format(string2)\n",
    "\n",
    "    pq.write_table(table2, path_to_save2)"
   ]
  },
  {
   "cell_type": "code",
   "execution_count": null,
   "metadata": {},
   "outputs": [],
   "source": []
  },
  {
   "cell_type": "code",
   "execution_count": null,
   "metadata": {},
   "outputs": [],
   "source": [
    "import concurrent.futures\n",
    "# import timeit\n",
    "# start_time = timeit.default_timer()\n",
    "\n",
    "# Create a list of values to process\n",
    "values_to_process = [(x, y) for x in lst1 for y in lst2]\n",
    "\n",
    "# Create a ThreadPoolExecutor to run the processing function in parallel\n",
    "with concurrent.futures.ThreadPoolExecutor(max_workers=4) as executor:\n",
    "    executor.map(process_value, values_to_process)\n",
    "    \n",
    "# elapsed = timeit.default_timer() - start_time\n",
    "# print(\"Time: \" + str(elapsed))"
   ]
  },
  {
   "cell_type": "code",
   "execution_count": null,
   "metadata": {},
   "outputs": [],
   "source": [
    "# testing intertools product + concurrent.futures\n",
    "# from itertools import product\n",
    "# import timeit\n",
    "# import concurrent.futures\n",
    "# start_time = timeit.default_timer()\n",
    "\n",
    "    \n",
    "# # Create a list of values to process + eficiente iteraction with itertools.product\n",
    "# values_to_process = [(x, y) for x, y in product(lst1, lst2)]\n",
    "\n",
    "# # Create a ThreadPoolExecutor to run the processing function in parallel\n",
    "# with concurrent.futures.ThreadPoolExecutor(max_workers=4) as executor:\n",
    "#     executor.map(process_value, values_to_process)\n",
    "    \n",
    "# elapsed = timeit.default_timer() - start_time\n",
    "# print(\"Time: \" + str(elapsed))"
   ]
  },
  {
   "cell_type": "code",
   "execution_count": null,
   "metadata": {},
   "outputs": [],
   "source": [
    "#time Acre + Hubs Acre for 105.80399431476737\n",
    "#time Acre + Hubs Acre concurrent.futures.ThreadPoolExecutor 86.74566370065327\n",
    "#time Acre + Hubs Acre intertools product: 106.52080645081378\n",
    "#time Acre + Hubs Acre intertools product + concurrent.futures: 88.902046174112\n",
    "\n"
   ]
  },
  {
   "cell_type": "code",
   "execution_count": null,
   "metadata": {},
   "outputs": [],
   "source": []
  }
 ],
 "metadata": {
  "kernelspec": {
   "display_name": "Python 3",
   "language": "python",
   "name": "python3"
  },
  "language_info": {
   "codemirror_mode": {
    "name": "ipython",
    "version": 3
   },
   "file_extension": ".py",
   "mimetype": "text/x-python",
   "name": "python",
   "nbconvert_exporter": "python",
   "pygments_lexer": "ipython3",
   "version": "3.6.2"
  }
 },
 "nbformat": 4,
 "nbformat_minor": 5
}
