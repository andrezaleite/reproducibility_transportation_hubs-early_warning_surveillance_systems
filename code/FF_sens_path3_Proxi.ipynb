{
 "cells": [
  {
   "cell_type": "code",
   "execution_count": 1,
   "id": "0a94b1a3",
   "metadata": {},
   "outputs": [],
   "source": [
    "import pandas as pd\n",
    "import pyarrow as pa\n",
    "import pyarrow.parquet as pq\n",
    "import numpy as np\n",
    "import networkx as nx"
   ]
  },
  {
   "cell_type": "markdown",
   "id": "b31f0940",
   "metadata": {},
   "source": [
    "# Read data"
   ]
  },
  {
   "cell_type": "code",
   "execution_count": 2,
   "id": "c3a88471",
   "metadata": {},
   "outputs": [],
   "source": [
    "# Read dictionary with municipalities\n",
    "muni = pd.read_csv('/home/juliane.oliveira/Documents/AESOP data structure/ETL_data/DTB_BRASIL_MUNICIPIO.csv',sep = ';')\n",
    "    "
   ]
  },
  {
   "cell_type": "code",
   "execution_count": 3,
   "id": "1596dfe5",
   "metadata": {},
   "outputs": [],
   "source": [
    "muni = muni[['UF', 'Nome_UF', 'Mesorregião Geográfica', 'Nome_Mesorregião',\n",
    "       'Microrregião Geográfica', 'Nome_Microrregião', 'Município',\n",
    "       'Código Município Completo', 'Nome_Município']]"
   ]
  },
  {
   "cell_type": "code",
   "execution_count": 4,
   "id": "e507c11c",
   "metadata": {},
   "outputs": [],
   "source": [
    "# Read the Adjacent matrix\n",
    "link0 = '/home/juliane.oliveira/Documents/GitHub/aesop-models/scripts/Mobility pipeline/adjacency_matrix_correct.parquet'\n",
    "\n",
    "matrix = pd.read_parquet(link0, engine='pyarrow')"
   ]
  },
  {
   "cell_type": "code",
   "execution_count": 5,
   "id": "aa5f7074",
   "metadata": {},
   "outputs": [],
   "source": [
    "df_np = matrix.to_numpy()"
   ]
  },
  {
   "cell_type": "code",
   "execution_count": 6,
   "id": "e7a809c9",
   "metadata": {},
   "outputs": [],
   "source": [
    "hubs = pd.read_csv('/home/juliane.oliveira/workspace/Data/data/lists_of_hubs.csv')"
   ]
  },
  {
   "cell_type": "code",
   "execution_count": 7,
   "id": "6794d796",
   "metadata": {},
   "outputs": [],
   "source": [
    "hub_pop_density = pd.read_csv('/home/juliane.oliveira/workspace/Data/hub_pop_density.csv')"
   ]
  },
  {
   "cell_type": "markdown",
   "id": "093ce14e",
   "metadata": {},
   "source": [
    "# Functions"
   ]
  },
  {
   "cell_type": "code",
   "execution_count": 8,
   "id": "5cabbaba",
   "metadata": {},
   "outputs": [],
   "source": [
    "link_muni_vertice = pd.DataFrame(matrix.columns, columns=['muni'])"
   ]
  },
  {
   "cell_type": "code",
   "execution_count": 9,
   "id": "412f25e1",
   "metadata": {},
   "outputs": [],
   "source": [
    "def get_mname(n):\n",
    "    \n",
    "    m = link_muni_vertice.iloc[n]['muni']\n",
    "    set_muni = muni[muni['Código Município Completo'] == m].reset_index()\n",
    "    return [set_muni.iloc[0]['Nome_Município'],set_muni.iloc[0]['Nome_UF'],m]\n",
    "   \n",
    "#def get_mnumber(name):\n",
    "#    muni[muni['Nome_Município'] == name]\n",
    "#    \n",
    "#    co_mu = muni[muni['Nome_Município'] == name].reset_index()['Código Município Completo'][0]\n",
    "#    muni_number = link_muni_vertice[link_muni_vertice['muni'] == co_mu]['muni'].index.tolist()[0]\n",
    "#    return [muni_number, co_mu]\n",
    "\n",
    "def get_mnumber(name,uf):\n",
    "    \n",
    "    set_df = muni[(muni['Nome_Município'] == name) & (muni['Nome_UF'] == uf)].reset_index()\n",
    "    \n",
    "    co_mu = set_df['Código Município Completo'][0]\n",
    "    \n",
    "    muni_number = link_muni_vertice[link_muni_vertice['muni'] == co_mu]['muni'].index.tolist()[0]\n",
    "    \n",
    "    return [muni_number, co_mu]"
   ]
  },
  {
   "cell_type": "code",
   "execution_count": 10,
   "id": "4fa7ab84",
   "metadata": {},
   "outputs": [],
   "source": [
    "def get_mnumber_of_set(df_col):\n",
    "    muni_number = []\n",
    "\n",
    "    for i in range(0,len(df_col)):\n",
    "    \n",
    "        uf = df_col['Nome_UF'].iloc[i]\n",
    "    \n",
    "        city = df_col['Nome_Município'].iloc[i]\n",
    "    \n",
    "        muni_number.append(get_mnumber(city,uf)[0])\n",
    "    \n",
    "    return muni_number"
   ]
  },
  {
   "cell_type": "code",
   "execution_count": 11,
   "id": "4d667d4d",
   "metadata": {},
   "outputs": [],
   "source": [
    "# Python program for implementation\n",
    "# of Ford Fulkerson algorithm\n",
    "from collections import defaultdict\n",
    "\n",
    "# This class represents a directed graph\n",
    "# using adjacency matrix representation\n",
    "        \n",
    "class Graph:\n",
    "\n",
    "    def __init__(self, graph):\n",
    "        self.graph = graph # residual graph\n",
    "        self. ROW = len(graph)\n",
    "        # self.COL = len(gr[0])\n",
    "\n",
    "\n",
    "    '''Returns true if there is a path from source 's' to sink 't' in\n",
    "    residual graph. Also fills parent[] to store the path '''\n",
    "\n",
    "\n",
    "    def BFS(self, s, t, parent):\n",
    "        visited = [False] * self.ROW\n",
    "        queue = []\n",
    "        queue.append(s)\n",
    "        visited[s] = True\n",
    "\n",
    "        while queue:\n",
    "            u = queue.pop(0)\n",
    "            for ind, val in enumerate(self.graph[u]):\n",
    "                if visited[ind] == False and val > 0:\n",
    "                    queue.append(ind)\n",
    "                    visited[ind] = True\n",
    "                    parent[ind] = u\n",
    "                    if ind == t:\n",
    "                        return True\n",
    "        return False\n",
    "\n",
    "    def FordFulkerson(self, source, sink):\n",
    "        parent = [-1] * self.ROW\n",
    "        max_flow = 0\n",
    "        paths = []  # List to store the paths\n",
    "        value_path = []\n",
    "\n",
    "        while self.BFS(source, sink, parent):\n",
    "            path_flow = float(\"inf\")\n",
    "            s = sink\n",
    "            while s != source:\n",
    "                path_flow = min(path_flow, self.graph[parent[s]][s])\n",
    "                s = parent[s]\n",
    "\n",
    "            max_flow += path_flow\n",
    "\n",
    "            # Store the current path\n",
    "            current_path = []\n",
    "            v = sink\n",
    "            while v != source:\n",
    "                u = parent[v]\n",
    "                current_path.append((u, v))\n",
    "                self.graph[u][v] -= path_flow\n",
    "                self.graph[v][u] += path_flow\n",
    "                v = parent[v]\n",
    "            paths.append(current_path)\n",
    "            value_path.append(max_flow)\n",
    "            \n",
    "            if len(current_path) > 3:\n",
    "                break\n",
    "\n",
    "        df_paths = pd.DataFrame(paths).transpose()\n",
    "        return max_flow, df_paths,value_path"
   ]
  },
  {
   "cell_type": "markdown",
   "id": "26c95998",
   "metadata": {},
   "source": [
    "# Define the list of municipalities as the origen and destination to run the FF method"
   ]
  },
  {
   "cell_type": "markdown",
   "id": "4a58968b",
   "metadata": {},
   "source": [
    "## Destination "
   ]
  },
  {
   "cell_type": "code",
   "execution_count": 12,
   "id": "376dba75",
   "metadata": {},
   "outputs": [],
   "source": [
    "hub_pop_density = hub_pop_density[[ '_c0', 'Nome_UF','UF',  'Nome_Município', 'uf10', 'co_uf',\n",
    "       'nm_municipio', 'ind_proxi', 'ind_intermed',  'densidade_2022', \n",
    "       'co_ibge']]"
   ]
  },
  {
   "cell_type": "code",
   "execution_count": 27,
   "id": "b4629148",
   "metadata": {
    "scrolled": true
   },
   "outputs": [],
   "source": [
    "#hub_pop_density.head()"
   ]
  },
  {
   "cell_type": "code",
   "execution_count": 28,
   "id": "802bd3f2",
   "metadata": {},
   "outputs": [],
   "source": [
    "#hub_pop_density.ind_proxi.describe()"
   ]
  },
  {
   "cell_type": "code",
   "execution_count": 22,
   "id": "4ac3955f",
   "metadata": {},
   "outputs": [],
   "source": [
    "# Select cities that are the top in PageRank and not in top of the BI\n",
    "\n",
    "set_dest = hub_pop_density[(hub_pop_density.ind_intermed < 0.000053) & (hub_pop_density.ind_proxi >= 0.36)]"
   ]
  },
  {
   "cell_type": "code",
   "execution_count": 26,
   "id": "0ea5b66f",
   "metadata": {},
   "outputs": [],
   "source": [
    "#set_dest"
   ]
  },
  {
   "cell_type": "markdown",
   "id": "34db3db4",
   "metadata": {},
   "source": [
    "## Select origin cities for the sensitive analysis "
   ]
  },
  {
   "cell_type": "code",
   "execution_count": 24,
   "id": "a784892e",
   "metadata": {},
   "outputs": [],
   "source": [
    "# Use the calculated probabilities to randomly select a subset of municipalities\n",
    "subset_size = 100  # Adjust the subset size as needed\n",
    "subset = np.random.choice(hub_pop_density['_c0'], size=subset_size, replace=False)\n"
   ]
  },
  {
   "cell_type": "markdown",
   "id": "93a014f0",
   "metadata": {},
   "source": [
    "# Run method for the list of municipalities selected"
   ]
  },
  {
   "cell_type": "code",
   "execution_count": 25,
   "id": "00646493",
   "metadata": {},
   "outputs": [
    {
     "name": "stdout",
     "output_type": "stream",
     "text": [
      "100 , 423 , 42300\n"
     ]
    }
   ],
   "source": [
    "lst1 = list(subset)\n",
    "lst2 = list(set_dest['_c0']) # destination are the cities in the top of PR that are not in the BI\n",
    "\n",
    "print(len(lst1), ',', len(lst2), ',', len(lst1)*len(lst2))"
   ]
  },
  {
   "cell_type": "code",
   "execution_count": 133,
   "id": "d41da1fe",
   "metadata": {},
   "outputs": [],
   "source": [
    "# Define a function to process each value in parallel\n",
    "def process_value(value):\n",
    "    n, m = value\n",
    "\n",
    "    matrix = pd.read_parquet(link0, engine='pyarrow')\n",
    "    df_np = matrix.to_numpy()\n",
    "\n",
    "    graph = df_np\n",
    "    g = Graph(graph)\n",
    "\n",
    "    max_flow, df_paths, value_path = g.FordFulkerson(n, m)\n",
    "    # transform df int a variable of lists\n",
    "    lists = [df_paths[col].tolist() for col in df_paths]\n",
    "    \n",
    "    #format value_path\n",
    "    path_value = pd.DataFrame(value_path, columns=['value_cum'])\n",
    "    path_value = path_value.assign(value=path_value['value_cum'] - path_value['value_cum'].shift())\n",
    "    path_value['value'] = path_value['value'].fillna(0)\n",
    "    path_value['ori_muni_name'] = get_mname(n)[0]\n",
    "    path_value['ori_uf_name'] = get_mname(n)[1]\n",
    "    path_value['ori_co_ibge'] = get_mname(n)[2]\n",
    "    path_value['des_muni_name'] = get_mname(m)[0]\n",
    "    path_value['des_uf_name'] = get_mname(m)[1]\n",
    "    path_value['des_co_ibge'] = get_mname(m)[2]\n",
    "    \n",
    "    #add lists to path_value\n",
    "    path_value = path_value.assign(paths=lists)\n",
    "    \n",
    "    #save path_value\n",
    "    table2 = pa.Table.from_pandas(path_value)\n",
    "\n",
    "    string2 = str(get_mname(n)[2]) + '_' + str(get_mname(m)[2]) + '_' + 'path_value'\n",
    "\n",
    "    path_to_save2 = '/home/juliane.oliveira/workspace/Data/sent_path_FF_Proxi_100_423/{}.parquet'.format(string2)\n",
    "    \n",
    "    pq.write_table(table2, path_to_save2)\n",
    "    "
   ]
  },
  {
   "cell_type": "code",
   "execution_count": null,
   "id": "b136de6c",
   "metadata": {},
   "outputs": [],
   "source": [
    "import concurrent.futures\n",
    "# import timeit\n",
    "# start_time = timeit.default_timer()\n",
    "\n",
    "# Create a list of values to process\n",
    "values_to_process = [(x, y) for x in lst1 for y in lst2]\n",
    "\n",
    "# Create a ThreadPoolExecutor to run the processing function in parallel\n",
    "with concurrent.futures.ThreadPoolExecutor(max_workers=4) as executor:\n",
    "    executor.map(process_value, values_to_process)\n",
    "    \n",
    "# elapsed = timeit.default_timer() - start_time\n",
    "# print(\"Time: \" + str(elapsed))"
   ]
  },
  {
   "cell_type": "code",
   "execution_count": null,
   "id": "b0e21a05",
   "metadata": {},
   "outputs": [],
   "source": []
  }
 ],
 "metadata": {
  "kernelspec": {
   "display_name": "Python 3 (ipykernel)",
   "language": "python",
   "name": "python3"
  },
  "language_info": {
   "codemirror_mode": {
    "name": "ipython",
    "version": 3
   },
   "file_extension": ".py",
   "mimetype": "text/x-python",
   "name": "python",
   "nbconvert_exporter": "python",
   "pygments_lexer": "ipython3",
   "version": "3.9.12"
  }
 },
 "nbformat": 4,
 "nbformat_minor": 5
}
