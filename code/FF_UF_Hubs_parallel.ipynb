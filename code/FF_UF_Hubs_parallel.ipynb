{
 "cells": [
  {
   "cell_type": "code",
   "execution_count": 76,
   "metadata": {},
   "outputs": [],
   "source": [
    "import pandas as pd\n",
    "import pyarrow as pa\n",
    "import pyarrow.parquet as pq\n",
    "import numpy as np\n",
    "from pathlib import Path"
   ]
  },
  {
   "cell_type": "markdown",
   "metadata": {},
   "source": [
    "# Read data"
   ]
  },
  {
   "cell_type": "code",
   "execution_count": 77,
   "metadata": {},
   "outputs": [],
   "source": [
    "# Read dictionary with municipalities\n",
    "# Com a pathlib nao precisamos ficar modificando o path dos arquivos, basta deixar todos no mesmo diretorio do notebook\n",
    "df_muni = pd.read_csv('DTB_BRASIL_MUNICIPIO.csv',sep = ';')\n",
    "    "
   ]
  },
  {
   "cell_type": "code",
   "execution_count": 9,
   "metadata": {},
   "outputs": [],
   "source": [
    "df_muni = df_muni[['UF', 'Nome_UF', 'Mesorregião Geográfica', 'Nome_Mesorregião',\n",
    "       'Microrregião Geográfica', 'Nome_Microrregião', 'Município',\n",
    "       'Código Município Completo', 'Nome_Município']]"
   ]
  },
  {
   "cell_type": "code",
   "execution_count": 10,
   "metadata": {},
   "outputs": [
    {
     "name": "stdout",
     "output_type": "stream",
     "text": [
      "<class 'pandas.core.frame.DataFrame'>\n",
      "RangeIndex: 5570 entries, 0 to 5569\n",
      "Data columns (total 9 columns):\n",
      " #   Column                     Non-Null Count  Dtype \n",
      "---  ------                     --------------  ----- \n",
      " 0   UF                         5570 non-null   int64 \n",
      " 1   Nome_UF                    5570 non-null   object\n",
      " 2   Mesorregião Geográfica     5570 non-null   int64 \n",
      " 3   Nome_Mesorregião           5570 non-null   object\n",
      " 4   Microrregião Geográfica    5570 non-null   int64 \n",
      " 5   Nome_Microrregião          5570 non-null   object\n",
      " 6   Município                  5570 non-null   int64 \n",
      " 7   Código Município Completo  5570 non-null   int64 \n",
      " 8   Nome_Município             5570 non-null   object\n",
      "dtypes: int64(5), object(4)\n",
      "memory usage: 391.8+ KB\n"
     ]
    }
   ],
   "source": [
    "df_muni.info()"
   ]
  },
  {
   "cell_type": "code",
   "execution_count": 75,
   "metadata": {},
   "outputs": [
    {
     "name": "stdout",
     "output_type": "stream",
     "text": [
      "<class 'pandas.core.frame.DataFrame'>\n",
      "Int64Index: 5570 entries, 1100015 to 5300108\n",
      "Columns: 5570 entries, 1100015 to 5300108\n",
      "dtypes: float64(5570)\n",
      "memory usage: 236.7 MB\n"
     ]
    }
   ],
   "source": [
    "# Read the Adjacent matrix\n",
    "link0 = 'adjacency_matrix_correct.parquet'\n",
    "df_matrix = pd.read_parquet(link0, engine='pyarrow')\n",
    "df_matrix.info()"
   ]
  },
  {
   "cell_type": "code",
   "execution_count": 12,
   "metadata": {},
   "outputs": [
    {
     "data": {
      "text/html": [
       "<div>\n",
       "<style scoped>\n",
       "    .dataframe tbody tr th:only-of-type {\n",
       "        vertical-align: middle;\n",
       "    }\n",
       "\n",
       "    .dataframe tbody tr th {\n",
       "        vertical-align: top;\n",
       "    }\n",
       "\n",
       "    .dataframe thead th {\n",
       "        text-align: right;\n",
       "    }\n",
       "</style>\n",
       "<table border=\"1\" class=\"dataframe\">\n",
       "  <thead>\n",
       "    <tr style=\"text-align: right;\">\n",
       "      <th></th>\n",
       "      <th>1100015</th>\n",
       "      <th>1100023</th>\n",
       "      <th>1100031</th>\n",
       "      <th>1100049</th>\n",
       "      <th>1100056</th>\n",
       "      <th>1100064</th>\n",
       "      <th>1100072</th>\n",
       "      <th>1100080</th>\n",
       "      <th>1100098</th>\n",
       "      <th>1100106</th>\n",
       "      <th>...</th>\n",
       "      <th>5221601</th>\n",
       "      <th>5221700</th>\n",
       "      <th>5221809</th>\n",
       "      <th>5221858</th>\n",
       "      <th>5221908</th>\n",
       "      <th>5222005</th>\n",
       "      <th>5222054</th>\n",
       "      <th>5222203</th>\n",
       "      <th>5222302</th>\n",
       "      <th>5300108</th>\n",
       "    </tr>\n",
       "  </thead>\n",
       "  <tbody>\n",
       "    <tr>\n",
       "      <th>count</th>\n",
       "      <td>5570.000000</td>\n",
       "      <td>5570.000000</td>\n",
       "      <td>5570.000000</td>\n",
       "      <td>5570.000000</td>\n",
       "      <td>5570.000000</td>\n",
       "      <td>5570.000000</td>\n",
       "      <td>5570.000000</td>\n",
       "      <td>5570.000000</td>\n",
       "      <td>5570.000000</td>\n",
       "      <td>5570.000000</td>\n",
       "      <td>...</td>\n",
       "      <td>5570.000000</td>\n",
       "      <td>5570.000000</td>\n",
       "      <td>5570.000000</td>\n",
       "      <td>5570.000000</td>\n",
       "      <td>5570.000000</td>\n",
       "      <td>5570.000000</td>\n",
       "      <td>5570.000000</td>\n",
       "      <td>5570.000000</td>\n",
       "      <td>5570.000000</td>\n",
       "      <td>5570.000000</td>\n",
       "    </tr>\n",
       "    <tr>\n",
       "      <th>mean</th>\n",
       "      <td>0.039138</td>\n",
       "      <td>0.788779</td>\n",
       "      <td>0.003591</td>\n",
       "      <td>0.651920</td>\n",
       "      <td>0.061041</td>\n",
       "      <td>0.058887</td>\n",
       "      <td>0.004309</td>\n",
       "      <td>0.091203</td>\n",
       "      <td>0.024596</td>\n",
       "      <td>0.039048</td>\n",
       "      <td>...</td>\n",
       "      <td>0.867325</td>\n",
       "      <td>0.085458</td>\n",
       "      <td>0.120826</td>\n",
       "      <td>0.159246</td>\n",
       "      <td>0.007540</td>\n",
       "      <td>0.142011</td>\n",
       "      <td>0.020108</td>\n",
       "      <td>0.020826</td>\n",
       "      <td>0.032675</td>\n",
       "      <td>3.467629</td>\n",
       "    </tr>\n",
       "    <tr>\n",
       "      <th>std</th>\n",
       "      <td>1.195661</td>\n",
       "      <td>10.979868</td>\n",
       "      <td>0.267980</td>\n",
       "      <td>8.014266</td>\n",
       "      <td>1.450769</td>\n",
       "      <td>1.446396</td>\n",
       "      <td>0.321576</td>\n",
       "      <td>2.204065</td>\n",
       "      <td>1.032914</td>\n",
       "      <td>1.982449</td>\n",
       "      <td>...</td>\n",
       "      <td>9.489227</td>\n",
       "      <td>1.911365</td>\n",
       "      <td>2.610244</td>\n",
       "      <td>2.479427</td>\n",
       "      <td>0.419425</td>\n",
       "      <td>3.114233</td>\n",
       "      <td>0.592911</td>\n",
       "      <td>0.713312</td>\n",
       "      <td>1.234860</td>\n",
       "      <td>25.525611</td>\n",
       "    </tr>\n",
       "    <tr>\n",
       "      <th>min</th>\n",
       "      <td>0.000000</td>\n",
       "      <td>0.000000</td>\n",
       "      <td>0.000000</td>\n",
       "      <td>0.000000</td>\n",
       "      <td>0.000000</td>\n",
       "      <td>0.000000</td>\n",
       "      <td>0.000000</td>\n",
       "      <td>0.000000</td>\n",
       "      <td>0.000000</td>\n",
       "      <td>0.000000</td>\n",
       "      <td>...</td>\n",
       "      <td>0.000000</td>\n",
       "      <td>0.000000</td>\n",
       "      <td>0.000000</td>\n",
       "      <td>0.000000</td>\n",
       "      <td>0.000000</td>\n",
       "      <td>0.000000</td>\n",
       "      <td>0.000000</td>\n",
       "      <td>0.000000</td>\n",
       "      <td>0.000000</td>\n",
       "      <td>0.000000</td>\n",
       "    </tr>\n",
       "    <tr>\n",
       "      <th>25%</th>\n",
       "      <td>0.000000</td>\n",
       "      <td>0.000000</td>\n",
       "      <td>0.000000</td>\n",
       "      <td>0.000000</td>\n",
       "      <td>0.000000</td>\n",
       "      <td>0.000000</td>\n",
       "      <td>0.000000</td>\n",
       "      <td>0.000000</td>\n",
       "      <td>0.000000</td>\n",
       "      <td>0.000000</td>\n",
       "      <td>...</td>\n",
       "      <td>0.000000</td>\n",
       "      <td>0.000000</td>\n",
       "      <td>0.000000</td>\n",
       "      <td>0.000000</td>\n",
       "      <td>0.000000</td>\n",
       "      <td>0.000000</td>\n",
       "      <td>0.000000</td>\n",
       "      <td>0.000000</td>\n",
       "      <td>0.000000</td>\n",
       "      <td>0.000000</td>\n",
       "    </tr>\n",
       "    <tr>\n",
       "      <th>50%</th>\n",
       "      <td>0.000000</td>\n",
       "      <td>0.000000</td>\n",
       "      <td>0.000000</td>\n",
       "      <td>0.000000</td>\n",
       "      <td>0.000000</td>\n",
       "      <td>0.000000</td>\n",
       "      <td>0.000000</td>\n",
       "      <td>0.000000</td>\n",
       "      <td>0.000000</td>\n",
       "      <td>0.000000</td>\n",
       "      <td>...</td>\n",
       "      <td>0.000000</td>\n",
       "      <td>0.000000</td>\n",
       "      <td>0.000000</td>\n",
       "      <td>0.000000</td>\n",
       "      <td>0.000000</td>\n",
       "      <td>0.000000</td>\n",
       "      <td>0.000000</td>\n",
       "      <td>0.000000</td>\n",
       "      <td>0.000000</td>\n",
       "      <td>0.000000</td>\n",
       "    </tr>\n",
       "    <tr>\n",
       "      <th>75%</th>\n",
       "      <td>0.000000</td>\n",
       "      <td>0.000000</td>\n",
       "      <td>0.000000</td>\n",
       "      <td>0.000000</td>\n",
       "      <td>0.000000</td>\n",
       "      <td>0.000000</td>\n",
       "      <td>0.000000</td>\n",
       "      <td>0.000000</td>\n",
       "      <td>0.000000</td>\n",
       "      <td>0.000000</td>\n",
       "      <td>...</td>\n",
       "      <td>0.000000</td>\n",
       "      <td>0.000000</td>\n",
       "      <td>0.000000</td>\n",
       "      <td>0.000000</td>\n",
       "      <td>0.000000</td>\n",
       "      <td>0.000000</td>\n",
       "      <td>0.000000</td>\n",
       "      <td>0.000000</td>\n",
       "      <td>0.000000</td>\n",
       "      <td>0.000000</td>\n",
       "    </tr>\n",
       "    <tr>\n",
       "      <th>max</th>\n",
       "      <td>56.000000</td>\n",
       "      <td>348.500000</td>\n",
       "      <td>20.000000</td>\n",
       "      <td>210.750000</td>\n",
       "      <td>56.000000</td>\n",
       "      <td>56.000000</td>\n",
       "      <td>24.000000</td>\n",
       "      <td>75.000000</td>\n",
       "      <td>58.000000</td>\n",
       "      <td>126.000000</td>\n",
       "      <td>...</td>\n",
       "      <td>284.000000</td>\n",
       "      <td>56.000000</td>\n",
       "      <td>84.000000</td>\n",
       "      <td>78.000000</td>\n",
       "      <td>28.000000</td>\n",
       "      <td>112.000000</td>\n",
       "      <td>28.000000</td>\n",
       "      <td>36.000000</td>\n",
       "      <td>80.000000</td>\n",
       "      <td>1163.354167</td>\n",
       "    </tr>\n",
       "  </tbody>\n",
       "</table>\n",
       "<p>8 rows × 5570 columns</p>\n",
       "</div>"
      ],
      "text/plain": [
       "           1100015      1100023      1100031      1100049      1100056  \\\n",
       "count  5570.000000  5570.000000  5570.000000  5570.000000  5570.000000   \n",
       "mean      0.039138     0.788779     0.003591     0.651920     0.061041   \n",
       "std       1.195661    10.979868     0.267980     8.014266     1.450769   \n",
       "min       0.000000     0.000000     0.000000     0.000000     0.000000   \n",
       "25%       0.000000     0.000000     0.000000     0.000000     0.000000   \n",
       "50%       0.000000     0.000000     0.000000     0.000000     0.000000   \n",
       "75%       0.000000     0.000000     0.000000     0.000000     0.000000   \n",
       "max      56.000000   348.500000    20.000000   210.750000    56.000000   \n",
       "\n",
       "           1100064      1100072      1100080      1100098      1100106  ...  \\\n",
       "count  5570.000000  5570.000000  5570.000000  5570.000000  5570.000000  ...   \n",
       "mean      0.058887     0.004309     0.091203     0.024596     0.039048  ...   \n",
       "std       1.446396     0.321576     2.204065     1.032914     1.982449  ...   \n",
       "min       0.000000     0.000000     0.000000     0.000000     0.000000  ...   \n",
       "25%       0.000000     0.000000     0.000000     0.000000     0.000000  ...   \n",
       "50%       0.000000     0.000000     0.000000     0.000000     0.000000  ...   \n",
       "75%       0.000000     0.000000     0.000000     0.000000     0.000000  ...   \n",
       "max      56.000000    24.000000    75.000000    58.000000   126.000000  ...   \n",
       "\n",
       "           5221601      5221700      5221809      5221858      5221908  \\\n",
       "count  5570.000000  5570.000000  5570.000000  5570.000000  5570.000000   \n",
       "mean      0.867325     0.085458     0.120826     0.159246     0.007540   \n",
       "std       9.489227     1.911365     2.610244     2.479427     0.419425   \n",
       "min       0.000000     0.000000     0.000000     0.000000     0.000000   \n",
       "25%       0.000000     0.000000     0.000000     0.000000     0.000000   \n",
       "50%       0.000000     0.000000     0.000000     0.000000     0.000000   \n",
       "75%       0.000000     0.000000     0.000000     0.000000     0.000000   \n",
       "max     284.000000    56.000000    84.000000    78.000000    28.000000   \n",
       "\n",
       "           5222005      5222054      5222203      5222302      5300108  \n",
       "count  5570.000000  5570.000000  5570.000000  5570.000000  5570.000000  \n",
       "mean      0.142011     0.020108     0.020826     0.032675     3.467629  \n",
       "std       3.114233     0.592911     0.713312     1.234860    25.525611  \n",
       "min       0.000000     0.000000     0.000000     0.000000     0.000000  \n",
       "25%       0.000000     0.000000     0.000000     0.000000     0.000000  \n",
       "50%       0.000000     0.000000     0.000000     0.000000     0.000000  \n",
       "75%       0.000000     0.000000     0.000000     0.000000     0.000000  \n",
       "max     112.000000    28.000000    36.000000    80.000000  1163.354167  \n",
       "\n",
       "[8 rows x 5570 columns]"
      ]
     },
     "execution_count": 12,
     "metadata": {},
     "output_type": "execute_result"
    }
   ],
   "source": [
    "desc_matrx = df_matrix.describe()\n",
    "desc_matrx"
   ]
  },
  {
   "cell_type": "code",
   "execution_count": 13,
   "metadata": {},
   "outputs": [
    {
     "name": "stdout",
     "output_type": "stream",
     "text": [
      "<class 'pandas.core.frame.DataFrame'>\n",
      "Int64Index: 5570 entries, 1100015 to 5300108\n",
      "Columns: 5570 entries, 1100015 to 5300108\n",
      "dtypes: uint16(5570)\n",
      "memory usage: 59.2 MB\n"
     ]
    }
   ],
   "source": [
    "df_matrix = df_matrix.astype('uint16')\n",
    "df_matrix.info()"
   ]
  },
  {
   "cell_type": "code",
   "execution_count": 14,
   "metadata": {},
   "outputs": [
    {
     "data": {
      "text/plain": [
       "array([[ 0,  7,  0, ...,  0,  0,  0],\n",
       "       [ 7,  0,  0, ...,  0,  0,  8],\n",
       "       [ 0,  0,  0, ...,  0,  0,  0],\n",
       "       ...,\n",
       "       [ 0,  0,  0, ...,  0,  0,  0],\n",
       "       [ 0,  0,  0, ...,  0,  0, 28],\n",
       "       [ 0,  8,  0, ...,  0, 28,  0]], dtype=uint16)"
      ]
     },
     "execution_count": 14,
     "metadata": {},
     "output_type": "execute_result"
    }
   ],
   "source": [
    "df_np = df_matrix.to_numpy()\n",
    "df_np"
   ]
  },
  {
   "cell_type": "code",
   "execution_count": 78,
   "metadata": {},
   "outputs": [
    {
     "name": "stdout",
     "output_type": "stream",
     "text": [
      "<class 'pandas.core.frame.DataFrame'>\n",
      "RangeIndex: 5570 entries, 0 to 5569\n",
      "Data columns (total 7 columns):\n",
      " #   Column            Non-Null Count  Dtype  \n",
      "---  ------            --------------  -----  \n",
      " 0   Unnamed: 0        5570 non-null   int64  \n",
      " 1   Nome_UF           5570 non-null   object \n",
      " 2   co_ibge           5570 non-null   int64  \n",
      " 3   Nome_Município    5570 non-null   object \n",
      " 4   hub_ind_proxi     5570 non-null   float64\n",
      " 5   hub_ind_intermed  5570 non-null   float64\n",
      " 6   hub_inter         5570 non-null   float64\n",
      "dtypes: float64(3), int64(2), object(2)\n",
      "memory usage: 304.7+ KB\n"
     ]
    }
   ],
   "source": [
    "df_hubs = pd.read_csv('lists_of_hubs.csv')\n",
    "df_hubs.info()"
   ]
  },
  {
   "cell_type": "markdown",
   "metadata": {},
   "source": [
    "# Functions"
   ]
  },
  {
   "cell_type": "code",
   "execution_count": 16,
   "metadata": {},
   "outputs": [],
   "source": [
    "link_muni_vertice = pd.DataFrame(df_matrix.columns, columns=['muni'])"
   ]
  },
  {
   "cell_type": "code",
   "execution_count": 17,
   "metadata": {},
   "outputs": [],
   "source": [
    "def get_mname(n):\n",
    "    \n",
    "    m = link_muni_vertice.iloc[n]['muni']\n",
    "    set_muni = df_muni[df_muni['Código Município Completo'] == m].reset_index()\n",
    "    return [set_muni.iloc[0]['Nome_Município'],set_muni.iloc[0]['Nome_UF'],m]\n",
    "\n",
    "def get_mnumber(name,uf):\n",
    "    \n",
    "    set_df = df_muni[(df_muni['Nome_Município'] == name) & (df_muni['Nome_UF'] == uf)].reset_index()\n",
    "    \n",
    "    co_mu = set_df['Código Município Completo'][0]\n",
    "    \n",
    "    muni_number = link_muni_vertice[link_muni_vertice['muni'] == co_mu]['muni'].index.tolist()[0]\n",
    "    \n",
    "    return [muni_number, co_mu]"
   ]
  },
  {
   "cell_type": "code",
   "execution_count": 18,
   "metadata": {},
   "outputs": [],
   "source": [
    "def get_mnumber_of_set(df_col):\n",
    "    muni_number = []\n",
    "\n",
    "    for i in range(0,len(df_col)):\n",
    "    \n",
    "        uf = df_col['Nome_UF'].iloc[i]\n",
    "    \n",
    "        city = df_col['Nome_Município'].iloc[i]\n",
    "    \n",
    "        muni_number.append(get_mnumber(city,uf)[0])\n",
    "    \n",
    "    return muni_number"
   ]
  },
  {
   "cell_type": "code",
   "execution_count": 85,
   "metadata": {},
   "outputs": [],
   "source": [
    "# Python program for implementation\n",
    "# of Ford Fulkerson algorithm\n",
    "from collections import defaultdict\n",
    "\n",
    "# This class represents a directed graph\n",
    "# using adjacency matrix representation\n",
    "        \n",
    "class Graph:\n",
    "\n",
    "    def __init__(self, graph: np.ndarray):\n",
    "        self.graph = graph # residual graph\n",
    "        self. ROW = len(graph)\n",
    "        # self.COL = len(gr[0])\n",
    "\n",
    "\n",
    "    '''Returns true if there is a path from source 's' to sink 't' in\n",
    "    residual graph. Also fills parent[] to store the path '''\n",
    "\n",
    "\n",
    "    def BFS(self, s, t, parent):\n",
    "        visited = [False] * self.ROW\n",
    "        queue = []\n",
    "        queue.append(s)\n",
    "        visited[s] = True\n",
    "\n",
    "        while queue:\n",
    "            u = queue.pop(0)\n",
    "            for ind, val in enumerate(self.graph[u]):\n",
    "                if visited[ind] == False and val > 0:\n",
    "                    queue.append(ind)\n",
    "                    visited[ind] = True\n",
    "                    parent[ind] = u\n",
    "                    if ind == t:\n",
    "                        return True\n",
    "        return False\n",
    "\n",
    "    def FordFulkerson(self, source, sink):\n",
    "        parent = [-1] * self.ROW\n",
    "        max_flow = 0\n",
    "        paths = []  # List to store the paths\n",
    "        value_path = []\n",
    "\n",
    "        while self.BFS(source, sink, parent):\n",
    "            path_flow = float(\"inf\")\n",
    "            s = sink\n",
    "            while s != source:\n",
    "                path_flow = min(path_flow, self.graph[parent[s]][s])\n",
    "                s = parent[s]\n",
    "\n",
    "            max_flow += path_flow\n",
    "\n",
    "            # Store the current path\n",
    "            current_path = []\n",
    "            v = sink\n",
    "            while v != source:\n",
    "                u = parent[v]\n",
    "                current_path.append((u, v))\n",
    "                self.graph[u][v] -= path_flow\n",
    "                self.graph[v][u] += path_flow\n",
    "                v = parent[v]\n",
    "            paths.append(current_path)\n",
    "            value_path.append(max_flow)\n",
    "            \n",
    "            if len(current_path) > 3:\n",
    "                break\n",
    "\n",
    "        return max_flow, pd.DataFrame(paths).transpose(), value_path"
   ]
  },
  {
   "cell_type": "code",
   "execution_count": 20,
   "metadata": {},
   "outputs": [],
   "source": [
    "def create_output_dataframe(value_path, df_paths, orig_mname, dest_mname):\n",
    "    list_paths = [df_paths[col_index].to_list() for col_index in range(0, df_paths.shape[1]) ]\n",
    "    df = (pd.DataFrame(value_path, columns=['value_cum'])\n",
    "          .assign(value=lambda x:x['value_cum'] - x['value_cum'].shift())\n",
    "          .fillna(0)\n",
    "          .assign(\n",
    "              ori_muni_name= orig_mname[0],\n",
    "              ori_uf_name= orig_mname[1],\n",
    "              ori_co_ibge= orig_mname[2],\n",
    "              des_muni_name= dest_mname[0],\n",
    "              des_uf_name= dest_mname[1],\n",
    "              des_co_ibge = dest_mname[2],\n",
    "              paths = list_paths\n",
    "          )\n",
    "         )\n",
    "    return df\n",
    "\n",
    "# create_output_dataframe(value_path, df_paths, n,m)"
   ]
  },
  {
   "cell_type": "code",
   "execution_count": 21,
   "metadata": {},
   "outputs": [],
   "source": [
    "def save_output(orig_mname, dest_mname, df_values):\n",
    "    \n",
    "    file_name_output = str(orig_mname[2]) + '_' + str(dest_mname[2]) + '_' + 'path_value'\n",
    "    file_path_output = path_folder/f'{file_name_output}.parquet'\n",
    "    \n",
    "    pa_df = pa.Table.from_pandas(df_values)\n",
    "    pq.write_table(pa_df, file_path_output)"
   ]
  },
  {
   "cell_type": "code",
   "execution_count": 22,
   "metadata": {},
   "outputs": [],
   "source": [
    "# #alternativa\n",
    "# def run_algo(df_np, tuple_orig_dest):\n",
    "#     n, m = tuple_orig_dest\n",
    "#     g = Graph(df_np.copy())\n",
    "    \n",
    "#     max_flow, df_paths, value_path = g.FordFulkerson(n, m)\n",
    "#     if len(value_path)==0:\n",
    "#         return\n",
    "#     orig_mname = get_mname(n)\n",
    "#     dest_mname = get_mname(m)\n",
    "#     df_values = create_output_dataframe(value_path, df_paths, orig_mname, dest_mname)\n",
    "\n",
    "#     save_output(orig_mname, dest_mname, df_values)\n",
    "#     return None"
   ]
  },
  {
   "cell_type": "code",
   "execution_count": null,
   "metadata": {},
   "outputs": [],
   "source": []
  },
  {
   "cell_type": "markdown",
   "metadata": {},
   "source": [
    "# Define the list of municipalities as the origen and destination to run the FF method"
   ]
  },
  {
   "cell_type": "markdown",
   "metadata": {},
   "source": [
    "## Destination"
   ]
  },
  {
   "cell_type": "code",
   "execution_count": 23,
   "metadata": {},
   "outputs": [],
   "source": [
    "selec_hubs = df_hubs[df_hubs['hub_inter'] == 1]"
   ]
  },
  {
   "cell_type": "code",
   "execution_count": 24,
   "metadata": {},
   "outputs": [
    {
     "data": {
      "text/html": [
       "<div>\n",
       "<style scoped>\n",
       "    .dataframe tbody tr th:only-of-type {\n",
       "        vertical-align: middle;\n",
       "    }\n",
       "\n",
       "    .dataframe tbody tr th {\n",
       "        vertical-align: top;\n",
       "    }\n",
       "\n",
       "    .dataframe thead th {\n",
       "        text-align: right;\n",
       "    }\n",
       "</style>\n",
       "<table border=\"1\" class=\"dataframe\">\n",
       "  <thead>\n",
       "    <tr style=\"text-align: right;\">\n",
       "      <th></th>\n",
       "      <th>Unnamed: 0</th>\n",
       "      <th>Nome_UF</th>\n",
       "      <th>co_ibge</th>\n",
       "      <th>Nome_Município</th>\n",
       "      <th>hub_ind_proxi</th>\n",
       "      <th>hub_ind_intermed</th>\n",
       "      <th>hub_inter</th>\n",
       "    </tr>\n",
       "  </thead>\n",
       "  <tbody>\n",
       "    <tr>\n",
       "      <th>1</th>\n",
       "      <td>1</td>\n",
       "      <td>Pará</td>\n",
       "      <td>1502954</td>\n",
       "      <td>Eldorado do Carajás</td>\n",
       "      <td>0.0</td>\n",
       "      <td>1.0</td>\n",
       "      <td>1.0</td>\n",
       "    </tr>\n",
       "    <tr>\n",
       "      <th>2</th>\n",
       "      <td>2</td>\n",
       "      <td>Tocantins</td>\n",
       "      <td>1702554</td>\n",
       "      <td>Augustinópolis</td>\n",
       "      <td>0.0</td>\n",
       "      <td>1.0</td>\n",
       "      <td>1.0</td>\n",
       "    </tr>\n",
       "    <tr>\n",
       "      <th>4</th>\n",
       "      <td>4</td>\n",
       "      <td>Maranhão</td>\n",
       "      <td>2108207</td>\n",
       "      <td>Pedreiras</td>\n",
       "      <td>0.0</td>\n",
       "      <td>1.0</td>\n",
       "      <td>1.0</td>\n",
       "    </tr>\n",
       "    <tr>\n",
       "      <th>7</th>\n",
       "      <td>7</td>\n",
       "      <td>Paraíba</td>\n",
       "      <td>2517001</td>\n",
       "      <td>Umbuzeiro</td>\n",
       "      <td>0.0</td>\n",
       "      <td>1.0</td>\n",
       "      <td>1.0</td>\n",
       "    </tr>\n",
       "    <tr>\n",
       "      <th>9</th>\n",
       "      <td>9</td>\n",
       "      <td>Bahia</td>\n",
       "      <td>2926301</td>\n",
       "      <td>Riachão do Jacuípe</td>\n",
       "      <td>1.0</td>\n",
       "      <td>1.0</td>\n",
       "      <td>1.0</td>\n",
       "    </tr>\n",
       "  </tbody>\n",
       "</table>\n",
       "</div>"
      ],
      "text/plain": [
       "   Unnamed: 0    Nome_UF  co_ibge       Nome_Município  hub_ind_proxi  \\\n",
       "1           1       Pará  1502954  Eldorado do Carajás            0.0   \n",
       "2           2  Tocantins  1702554       Augustinópolis            0.0   \n",
       "4           4   Maranhão  2108207            Pedreiras            0.0   \n",
       "7           7    Paraíba  2517001            Umbuzeiro            0.0   \n",
       "9           9      Bahia  2926301   Riachão do Jacuípe            1.0   \n",
       "\n",
       "   hub_ind_intermed  hub_inter  \n",
       "1               1.0        1.0  \n",
       "2               1.0        1.0  \n",
       "4               1.0        1.0  \n",
       "7               1.0        1.0  \n",
       "9               1.0        1.0  "
      ]
     },
     "execution_count": 24,
     "metadata": {},
     "output_type": "execute_result"
    }
   ],
   "source": [
    "selec_hubs.head()"
   ]
  },
  {
   "cell_type": "code",
   "execution_count": 25,
   "metadata": {},
   "outputs": [
    {
     "name": "stdout",
     "output_type": "stream",
     "text": [
      "CPU times: user 6.65 s, sys: 84.3 ms, total: 6.73 s\n",
      "Wall time: 8.81 s\n"
     ]
    }
   ],
   "source": [
    "%%time\n",
    "selec_hubs = selec_hubs.assign(muni_number = get_mnumber_of_set(selec_hubs))"
   ]
  },
  {
   "cell_type": "code",
   "execution_count": 26,
   "metadata": {},
   "outputs": [],
   "source": [
    "#selec_hubs = selec_hubs[selec_hubs.Nome_UF == 'Acre']"
   ]
  },
  {
   "cell_type": "markdown",
   "metadata": {},
   "source": [
    "## Origin"
   ]
  },
  {
   "cell_type": "code",
   "execution_count": 27,
   "metadata": {},
   "outputs": [],
   "source": [
    "ac_muni = df_muni[df_muni.Nome_UF == 'Acre']"
   ]
  },
  {
   "cell_type": "code",
   "execution_count": 28,
   "metadata": {},
   "outputs": [],
   "source": [
    "ac_muni = ac_muni.assign(muni_number = get_mnumber_of_set(ac_muni))"
   ]
  },
  {
   "cell_type": "code",
   "execution_count": null,
   "metadata": {},
   "outputs": [],
   "source": [
    "ac_muni.head(10)"
   ]
  },
  {
   "cell_type": "markdown",
   "metadata": {},
   "source": [
    "# Run method for the list of municipalities selected"
   ]
  },
  {
   "cell_type": "code",
   "execution_count": 30,
   "metadata": {},
   "outputs": [
    {
     "data": {
      "text/plain": [
       "Minas Gerais           853\n",
       "São Paulo              645\n",
       "Rio Grande do Sul      497\n",
       "Bahia                  417\n",
       "Paraná                 399\n",
       "Santa Catarina         295\n",
       "Goiás                  246\n",
       "Piauí                  224\n",
       "Paraíba                223\n",
       "Maranhão               217\n",
       "Pernambuco             185\n",
       "Ceará                  184\n",
       "Rio Grande do Norte    167\n",
       "Pará                   144\n",
       "Mato Grosso            141\n",
       "Tocantins              139\n",
       "Alagoas                102\n",
       "Rio de Janeiro          92\n",
       "Mato Grosso do Sul      79\n",
       "Espírito Santo          78\n",
       "Sergipe                 75\n",
       "Amazonas                62\n",
       "Rondônia                52\n",
       "Acre                    22\n",
       "Amapá                   16\n",
       "Roraima                 15\n",
       "Distrito Federal         1\n",
       "Name: Nome_UF, dtype: int64"
      ]
     },
     "execution_count": 30,
     "metadata": {},
     "output_type": "execute_result"
    }
   ],
   "source": [
    "df_muni['Nome_UF'].value_counts()"
   ]
  },
  {
   "cell_type": "markdown",
   "metadata": {},
   "source": [
    "## Definir Estado"
   ]
  },
  {
   "cell_type": "code",
   "execution_count": 86,
   "metadata": {},
   "outputs": [],
   "source": [
    "UF = 'Acre'\n",
    "# UF='Amazonas'\n",
    "# UF='Rio de Janeiro'"
   ]
  },
  {
   "cell_type": "code",
   "execution_count": 87,
   "metadata": {},
   "outputs": [
    {
     "name": "stdout",
     "output_type": "stream",
     "text": [
      "22 , 3 , 66\n"
     ]
    }
   ],
   "source": [
    "selec_hubs = df_hubs[df_hubs['hub_inter'] == 1]\n",
    "selec_hubs = selec_hubs.assign(muni_number = get_mnumber_of_set(selec_hubs))\n",
    "\n",
    "#selec_hubs = selec_hubs[selec_hubs.Nome_UF == UF]\n",
    "\n",
    "ac_muni = df_muni[df_muni.Nome_UF == UF]\n",
    "ac_muni = ac_muni.assign(muni_number = get_mnumber_of_set(ac_muni))\n",
    "\n",
    "\n",
    "lst1 = list(ac_muni['muni_number']) #[52,53,54,55,56,58,59,60,61,62,63,64,65,66,67,68,69,71,72,73]\n",
    "lst2 = list(selec_hubs['muni_number'])#[57,67,70, 108,119,111,102,91]#list(range(1,5570,1))\n",
    "\n",
    "print(len(lst1), ',', len(lst2), ',', len(lst1)*len(lst2))\n",
    "\n",
    "path_folder = Path(f'FF_path_results_{UF}')\n",
    "path_folder.mkdir(exist_ok=True)"
   ]
  },
  {
   "cell_type": "code",
   "execution_count": 33,
   "metadata": {},
   "outputs": [],
   "source": [
    "df_matrix = pd.read_parquet(link0, engine='pyarrow')\n",
    "df_np = df_matrix.to_numpy()"
   ]
  },
  {
   "cell_type": "code",
   "execution_count": 50,
   "metadata": {},
   "outputs": [],
   "source": [
    "# Create a list of values to process\n",
    "list_orig_dest = [(x, y) for x in lst1 for y in lst2]"
   ]
  },
  {
   "cell_type": "code",
   "execution_count": 88,
   "metadata": {},
   "outputs": [],
   "source": [
    "# %%time\n",
    "def process_value(value):\n",
    "    n, m = value\n",
    "    g = Graph(df_np.copy())\n",
    "    \n",
    "    max_flow, df_paths, value_path = g.FordFulkerson(n, m)\n",
    "\n",
    "# para evitar a escrita de arquivos vazios, o que tbm reduz o tempo de execução\n",
    "#     if len(value_path)==0:\n",
    "#         return\n",
    "#         print('vazio')\n",
    "\n",
    "    orig_mname = get_mname(n)\n",
    "    dest_mname = get_mname(m)\n",
    "    df_values = create_output_dataframe(value_path, df_paths, orig_mname, dest_mname)\n",
    "\n",
    "    save_output(orig_mname, dest_mname, df_values)\n",
    "    # print(df_values.shape)\n",
    "    # break"
   ]
  },
  {
   "cell_type": "code",
   "execution_count": 30,
   "metadata": {},
   "outputs": [],
   "source": [
    "# debug\n",
    "# print(n, m, df_paths, sep='\\n')"
   ]
  },
  {
   "cell_type": "code",
   "execution_count": 94,
   "metadata": {},
   "outputs": [
    {
     "name": "stdout",
     "output_type": "stream",
     "text": [
      "CPU times: user 4min 11s, sys: 26.9 s, total: 4min 38s\n",
      "Wall time: 3min 43s\n"
     ]
    }
   ],
   "source": [
    "# %%time\n",
    "# # Create a ThreadPoolExecutor to run the processing function in parallel\n",
    "# with concurrent.futures.ThreadPoolExecutor(max_workers=4) as executor:\n",
    "#     executor.map(process_value, list_orig_dest)\n",
    "    "
   ]
  },
  {
   "cell_type": "code",
   "execution_count": 92,
   "metadata": {},
   "outputs": [
    {
     "name": "stdout",
     "output_type": "stream",
     "text": [
      "CPU times: user 55.3 ms, sys: 60.3 ms, total: 116 ms\n",
      "Wall time: 2min\n"
     ]
    }
   ],
   "source": [
    "# %%time\n",
    "#melhor tempo\n",
    "# Create a ProcessPoolExecutor to run the processing function in parallel\n",
    "with concurrent.futures.ProcessPoolExecutor(max_workers=4) as executor:\n",
    "    executor.map(process_value, list_orig_dest)"
   ]
  },
  {
   "cell_type": "code",
   "execution_count": null,
   "metadata": {},
   "outputs": [],
   "source": [
    "# versão alternativa (função run_algo)\n",
    "# %%time\n",
    "# for tuple_orig_dest in list_orig_dest:\n",
    "#     run_algo(df_np, tuple_orig_dest)"
   ]
  }
 ],
 "metadata": {
  "kernelspec": {
   "display_name": "Python 3",
   "language": "python",
   "name": "python3"
  },
  "language_info": {
   "codemirror_mode": {
    "name": "ipython",
    "version": 3
   },
   "file_extension": ".py",
   "mimetype": "text/x-python",
   "name": "python",
   "nbconvert_exporter": "python",
   "pygments_lexer": "ipython3",
   "version": "3.6.2"
  }
 },
 "nbformat": 4,
 "nbformat_minor": 5
}
